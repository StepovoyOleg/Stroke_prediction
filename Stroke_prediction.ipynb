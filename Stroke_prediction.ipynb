{
 "cells": [
  {
   "cell_type": "markdown",
   "id": "3d592aae",
   "metadata": {},
   "source": [
    "# Importing libraries\n"
   ]
  },
  {
   "cell_type": "code",
   "execution_count": null,
   "id": "ed9cb52e",
   "metadata": {},
   "outputs": [],
   "source": [
    "import numpy as np\n",
    "import pandas as pd\n",
    "import matplotlib.pyplot as plt\n",
    "import seaborn as sns\n",
    "from sklearn.preprocessing import LabelEncoder\n",
    "from statsmodels.stats.outliers_influence import variance_inflation_factor\n",
    "from sklearn.model_selection import train_test_split\n",
    "from sklearn.linear_model import LogisticRegression\n",
    "from sklearn.tree import DecisionTreeClassifier\n",
    "from sklearn.ensemble import RandomForestClassifier\n",
    "from sklearn.svm import SVC\n",
    "from sklearn.neighbors import KNeighborsClassifier\n",
    "from sklearn.naive_bayes import GaussianNB\n",
    "from sklearn.neural_network import MLPClassifier\n",
    "from xgboost import XGBClassifier\n",
    "from sklearn.model_selection import train_test_split, GridSearchCV\n",
    "from sklearn.metrics import accuracy_score, precision_score, recall_score, f1_score, roc_auc_score, matthews_corrcoef, confusion_matrix\n",
    "from imblearn.over_sampling import SMOTE\n",
    "%matplotlib inline      "
   ]
  },
  {
   "cell_type": "markdown",
   "id": "caf4178c",
   "metadata": {},
   "source": [
    "# 1. EDA"
   ]
  },
  {
   "cell_type": "code",
   "execution_count": 277,
   "id": "e56b81be",
   "metadata": {},
   "outputs": [],
   "source": [
    "df = pd.read_csv('stroke_data.csv')"
   ]
  },
  {
   "cell_type": "code",
   "execution_count": 278,
   "id": "51677123",
   "metadata": {},
   "outputs": [
    {
     "data": {
      "text/html": [
       "<div>\n",
       "<style scoped>\n",
       "    .dataframe tbody tr th:only-of-type {\n",
       "        vertical-align: middle;\n",
       "    }\n",
       "\n",
       "    .dataframe tbody tr th {\n",
       "        vertical-align: top;\n",
       "    }\n",
       "\n",
       "    .dataframe thead th {\n",
       "        text-align: right;\n",
       "    }\n",
       "</style>\n",
       "<table border=\"1\" class=\"dataframe\">\n",
       "  <thead>\n",
       "    <tr style=\"text-align: right;\">\n",
       "      <th></th>\n",
       "      <th>id</th>\n",
       "      <th>gender</th>\n",
       "      <th>age</th>\n",
       "      <th>hypertension</th>\n",
       "      <th>heart_disease</th>\n",
       "      <th>ever_married</th>\n",
       "      <th>work_type</th>\n",
       "      <th>Residence_type</th>\n",
       "      <th>avg_glucose_level</th>\n",
       "      <th>bmi</th>\n",
       "      <th>smoking_status</th>\n",
       "      <th>stroke</th>\n",
       "    </tr>\n",
       "  </thead>\n",
       "  <tbody>\n",
       "    <tr>\n",
       "      <th>0</th>\n",
       "      <td>9046</td>\n",
       "      <td>Male</td>\n",
       "      <td>67.0</td>\n",
       "      <td>0</td>\n",
       "      <td>1</td>\n",
       "      <td>Yes</td>\n",
       "      <td>Private</td>\n",
       "      <td>Urban</td>\n",
       "      <td>228.69</td>\n",
       "      <td>36.6</td>\n",
       "      <td>formerly smoked</td>\n",
       "      <td>1</td>\n",
       "    </tr>\n",
       "    <tr>\n",
       "      <th>1</th>\n",
       "      <td>51676</td>\n",
       "      <td>Female</td>\n",
       "      <td>61.0</td>\n",
       "      <td>0</td>\n",
       "      <td>0</td>\n",
       "      <td>Yes</td>\n",
       "      <td>Self-employed</td>\n",
       "      <td>Rural</td>\n",
       "      <td>202.21</td>\n",
       "      <td>NaN</td>\n",
       "      <td>never smoked</td>\n",
       "      <td>1</td>\n",
       "    </tr>\n",
       "    <tr>\n",
       "      <th>2</th>\n",
       "      <td>31112</td>\n",
       "      <td>Male</td>\n",
       "      <td>80.0</td>\n",
       "      <td>0</td>\n",
       "      <td>1</td>\n",
       "      <td>Yes</td>\n",
       "      <td>Private</td>\n",
       "      <td>Rural</td>\n",
       "      <td>105.92</td>\n",
       "      <td>32.5</td>\n",
       "      <td>never smoked</td>\n",
       "      <td>1</td>\n",
       "    </tr>\n",
       "    <tr>\n",
       "      <th>3</th>\n",
       "      <td>60182</td>\n",
       "      <td>Female</td>\n",
       "      <td>49.0</td>\n",
       "      <td>0</td>\n",
       "      <td>0</td>\n",
       "      <td>Yes</td>\n",
       "      <td>Private</td>\n",
       "      <td>Urban</td>\n",
       "      <td>171.23</td>\n",
       "      <td>34.4</td>\n",
       "      <td>smokes</td>\n",
       "      <td>1</td>\n",
       "    </tr>\n",
       "    <tr>\n",
       "      <th>4</th>\n",
       "      <td>1665</td>\n",
       "      <td>Female</td>\n",
       "      <td>79.0</td>\n",
       "      <td>1</td>\n",
       "      <td>0</td>\n",
       "      <td>Yes</td>\n",
       "      <td>Self-employed</td>\n",
       "      <td>Rural</td>\n",
       "      <td>174.12</td>\n",
       "      <td>24.0</td>\n",
       "      <td>never smoked</td>\n",
       "      <td>1</td>\n",
       "    </tr>\n",
       "    <tr>\n",
       "      <th>...</th>\n",
       "      <td>...</td>\n",
       "      <td>...</td>\n",
       "      <td>...</td>\n",
       "      <td>...</td>\n",
       "      <td>...</td>\n",
       "      <td>...</td>\n",
       "      <td>...</td>\n",
       "      <td>...</td>\n",
       "      <td>...</td>\n",
       "      <td>...</td>\n",
       "      <td>...</td>\n",
       "      <td>...</td>\n",
       "    </tr>\n",
       "    <tr>\n",
       "      <th>5105</th>\n",
       "      <td>18234</td>\n",
       "      <td>Female</td>\n",
       "      <td>80.0</td>\n",
       "      <td>1</td>\n",
       "      <td>0</td>\n",
       "      <td>Yes</td>\n",
       "      <td>Private</td>\n",
       "      <td>Urban</td>\n",
       "      <td>83.75</td>\n",
       "      <td>NaN</td>\n",
       "      <td>never smoked</td>\n",
       "      <td>0</td>\n",
       "    </tr>\n",
       "    <tr>\n",
       "      <th>5106</th>\n",
       "      <td>44873</td>\n",
       "      <td>Female</td>\n",
       "      <td>81.0</td>\n",
       "      <td>0</td>\n",
       "      <td>0</td>\n",
       "      <td>Yes</td>\n",
       "      <td>Self-employed</td>\n",
       "      <td>Urban</td>\n",
       "      <td>125.20</td>\n",
       "      <td>40.0</td>\n",
       "      <td>never smoked</td>\n",
       "      <td>0</td>\n",
       "    </tr>\n",
       "    <tr>\n",
       "      <th>5107</th>\n",
       "      <td>19723</td>\n",
       "      <td>Female</td>\n",
       "      <td>35.0</td>\n",
       "      <td>0</td>\n",
       "      <td>0</td>\n",
       "      <td>Yes</td>\n",
       "      <td>Self-employed</td>\n",
       "      <td>Rural</td>\n",
       "      <td>82.99</td>\n",
       "      <td>30.6</td>\n",
       "      <td>never smoked</td>\n",
       "      <td>0</td>\n",
       "    </tr>\n",
       "    <tr>\n",
       "      <th>5108</th>\n",
       "      <td>37544</td>\n",
       "      <td>Male</td>\n",
       "      <td>51.0</td>\n",
       "      <td>0</td>\n",
       "      <td>0</td>\n",
       "      <td>Yes</td>\n",
       "      <td>Private</td>\n",
       "      <td>Rural</td>\n",
       "      <td>166.29</td>\n",
       "      <td>25.6</td>\n",
       "      <td>formerly smoked</td>\n",
       "      <td>0</td>\n",
       "    </tr>\n",
       "    <tr>\n",
       "      <th>5109</th>\n",
       "      <td>44679</td>\n",
       "      <td>Female</td>\n",
       "      <td>44.0</td>\n",
       "      <td>0</td>\n",
       "      <td>0</td>\n",
       "      <td>Yes</td>\n",
       "      <td>Govt_job</td>\n",
       "      <td>Urban</td>\n",
       "      <td>85.28</td>\n",
       "      <td>26.2</td>\n",
       "      <td>Unknown</td>\n",
       "      <td>0</td>\n",
       "    </tr>\n",
       "  </tbody>\n",
       "</table>\n",
       "<p>5110 rows × 12 columns</p>\n",
       "</div>"
      ],
      "text/plain": [
       "         id  gender   age  hypertension  heart_disease ever_married  \\\n",
       "0      9046    Male  67.0             0              1          Yes   \n",
       "1     51676  Female  61.0             0              0          Yes   \n",
       "2     31112    Male  80.0             0              1          Yes   \n",
       "3     60182  Female  49.0             0              0          Yes   \n",
       "4      1665  Female  79.0             1              0          Yes   \n",
       "...     ...     ...   ...           ...            ...          ...   \n",
       "5105  18234  Female  80.0             1              0          Yes   \n",
       "5106  44873  Female  81.0             0              0          Yes   \n",
       "5107  19723  Female  35.0             0              0          Yes   \n",
       "5108  37544    Male  51.0             0              0          Yes   \n",
       "5109  44679  Female  44.0             0              0          Yes   \n",
       "\n",
       "          work_type Residence_type  avg_glucose_level   bmi   smoking_status  \\\n",
       "0           Private          Urban             228.69  36.6  formerly smoked   \n",
       "1     Self-employed          Rural             202.21   NaN     never smoked   \n",
       "2           Private          Rural             105.92  32.5     never smoked   \n",
       "3           Private          Urban             171.23  34.4           smokes   \n",
       "4     Self-employed          Rural             174.12  24.0     never smoked   \n",
       "...             ...            ...                ...   ...              ...   \n",
       "5105        Private          Urban              83.75   NaN     never smoked   \n",
       "5106  Self-employed          Urban             125.20  40.0     never smoked   \n",
       "5107  Self-employed          Rural              82.99  30.6     never smoked   \n",
       "5108        Private          Rural             166.29  25.6  formerly smoked   \n",
       "5109       Govt_job          Urban              85.28  26.2          Unknown   \n",
       "\n",
       "      stroke  \n",
       "0          1  \n",
       "1          1  \n",
       "2          1  \n",
       "3          1  \n",
       "4          1  \n",
       "...      ...  \n",
       "5105       0  \n",
       "5106       0  \n",
       "5107       0  \n",
       "5108       0  \n",
       "5109       0  \n",
       "\n",
       "[5110 rows x 12 columns]"
      ]
     },
     "execution_count": 278,
     "metadata": {},
     "output_type": "execute_result"
    }
   ],
   "source": [
    "df"
   ]
  },
  {
   "cell_type": "code",
   "execution_count": 279,
   "id": "853d439f",
   "metadata": {
    "scrolled": true
   },
   "outputs": [
    {
     "name": "stdout",
     "output_type": "stream",
     "text": [
      "<class 'pandas.core.frame.DataFrame'>\n",
      "RangeIndex: 5110 entries, 0 to 5109\n",
      "Data columns (total 12 columns):\n",
      " #   Column             Non-Null Count  Dtype  \n",
      "---  ------             --------------  -----  \n",
      " 0   id                 5110 non-null   int64  \n",
      " 1   gender             5110 non-null   object \n",
      " 2   age                5110 non-null   float64\n",
      " 3   hypertension       5110 non-null   int64  \n",
      " 4   heart_disease      5110 non-null   int64  \n",
      " 5   ever_married       5110 non-null   object \n",
      " 6   work_type          5110 non-null   object \n",
      " 7   Residence_type     5110 non-null   object \n",
      " 8   avg_glucose_level  5110 non-null   float64\n",
      " 9   bmi                4909 non-null   float64\n",
      " 10  smoking_status     5110 non-null   object \n",
      " 11  stroke             5110 non-null   int64  \n",
      "dtypes: float64(3), int64(4), object(5)\n",
      "memory usage: 479.2+ KB\n"
     ]
    }
   ],
   "source": [
    "df.info()"
   ]
  },
  {
   "cell_type": "code",
   "execution_count": 280,
   "id": "4fed768e",
   "metadata": {},
   "outputs": [
    {
     "name": "stdout",
     "output_type": "stream",
     "text": [
      "Пропуски в df: \n",
      "id                     0\n",
      "gender                 0\n",
      "age                    0\n",
      "hypertension           0\n",
      "heart_disease          0\n",
      "ever_married           0\n",
      "work_type              0\n",
      "Residence_type         0\n",
      "avg_glucose_level      0\n",
      "bmi                  201\n",
      "smoking_status         0\n",
      "stroke                 0\n",
      "dtype: int64\n",
      "\n",
      "Доля пропусков в df:\n",
      "id                   0.00\n",
      "gender               0.00\n",
      "age                  0.00\n",
      "hypertension         0.00\n",
      "heart_disease        0.00\n",
      "ever_married         0.00\n",
      "work_type            0.00\n",
      "Residence_type       0.00\n",
      "avg_glucose_level    0.00\n",
      "bmi                  0.04\n",
      "smoking_status       0.00\n",
      "stroke               0.00\n",
      "dtype: float64\n"
     ]
    }
   ],
   "source": [
    "print(f'Пропуски в df: \\n{df.isna().sum()}')\n",
    "\n",
    "print(f'\\nДоля пропусков в df:\\n{round(df.isna().sum() / len(df), 2)}')"
   ]
  },
  {
   "cell_type": "markdown",
   "id": "a94fffbd",
   "metadata": {},
   "source": [
    "### Наблюдение (1)\n",
    "\n",
    "Существует 11 параметров, каждый из которых содержит 5110 значений, за исключением данных о BMI (4% отсутствующих значений).\n",
    "Все параметры, вероятно, могут быть важными, за исключением \"ID\". Маловероятно, что он содержит какую-либо полезную информацию, поэтому его можно игнорировать в анализе."
   ]
  },
  {
   "cell_type": "code",
   "execution_count": 281,
   "id": "77fe64e0",
   "metadata": {},
   "outputs": [
    {
     "data": {
      "text/html": [
       "<div>\n",
       "<style scoped>\n",
       "    .dataframe tbody tr th:only-of-type {\n",
       "        vertical-align: middle;\n",
       "    }\n",
       "\n",
       "    .dataframe tbody tr th {\n",
       "        vertical-align: top;\n",
       "    }\n",
       "\n",
       "    .dataframe thead th {\n",
       "        text-align: right;\n",
       "    }\n",
       "</style>\n",
       "<table border=\"1\" class=\"dataframe\">\n",
       "  <thead>\n",
       "    <tr style=\"text-align: right;\">\n",
       "      <th></th>\n",
       "      <th>count</th>\n",
       "      <th>mean</th>\n",
       "      <th>std</th>\n",
       "      <th>min</th>\n",
       "      <th>25%</th>\n",
       "      <th>50%</th>\n",
       "      <th>75%</th>\n",
       "      <th>max</th>\n",
       "    </tr>\n",
       "  </thead>\n",
       "  <tbody>\n",
       "    <tr>\n",
       "      <th>id</th>\n",
       "      <td>5110.0</td>\n",
       "      <td>36517.829354</td>\n",
       "      <td>21161.721625</td>\n",
       "      <td>67.00</td>\n",
       "      <td>17741.250</td>\n",
       "      <td>36932.000</td>\n",
       "      <td>54682.00</td>\n",
       "      <td>72940.00</td>\n",
       "    </tr>\n",
       "    <tr>\n",
       "      <th>age</th>\n",
       "      <td>5110.0</td>\n",
       "      <td>43.226614</td>\n",
       "      <td>22.612647</td>\n",
       "      <td>0.08</td>\n",
       "      <td>25.000</td>\n",
       "      <td>45.000</td>\n",
       "      <td>61.00</td>\n",
       "      <td>82.00</td>\n",
       "    </tr>\n",
       "    <tr>\n",
       "      <th>hypertension</th>\n",
       "      <td>5110.0</td>\n",
       "      <td>0.097456</td>\n",
       "      <td>0.296607</td>\n",
       "      <td>0.00</td>\n",
       "      <td>0.000</td>\n",
       "      <td>0.000</td>\n",
       "      <td>0.00</td>\n",
       "      <td>1.00</td>\n",
       "    </tr>\n",
       "    <tr>\n",
       "      <th>heart_disease</th>\n",
       "      <td>5110.0</td>\n",
       "      <td>0.054012</td>\n",
       "      <td>0.226063</td>\n",
       "      <td>0.00</td>\n",
       "      <td>0.000</td>\n",
       "      <td>0.000</td>\n",
       "      <td>0.00</td>\n",
       "      <td>1.00</td>\n",
       "    </tr>\n",
       "    <tr>\n",
       "      <th>avg_glucose_level</th>\n",
       "      <td>5110.0</td>\n",
       "      <td>106.147677</td>\n",
       "      <td>45.283560</td>\n",
       "      <td>55.12</td>\n",
       "      <td>77.245</td>\n",
       "      <td>91.885</td>\n",
       "      <td>114.09</td>\n",
       "      <td>271.74</td>\n",
       "    </tr>\n",
       "    <tr>\n",
       "      <th>bmi</th>\n",
       "      <td>4909.0</td>\n",
       "      <td>28.893237</td>\n",
       "      <td>7.854067</td>\n",
       "      <td>10.30</td>\n",
       "      <td>23.500</td>\n",
       "      <td>28.100</td>\n",
       "      <td>33.10</td>\n",
       "      <td>97.60</td>\n",
       "    </tr>\n",
       "    <tr>\n",
       "      <th>stroke</th>\n",
       "      <td>5110.0</td>\n",
       "      <td>0.048728</td>\n",
       "      <td>0.215320</td>\n",
       "      <td>0.00</td>\n",
       "      <td>0.000</td>\n",
       "      <td>0.000</td>\n",
       "      <td>0.00</td>\n",
       "      <td>1.00</td>\n",
       "    </tr>\n",
       "  </tbody>\n",
       "</table>\n",
       "</div>"
      ],
      "text/plain": [
       "                    count          mean           std    min        25%  \\\n",
       "id                 5110.0  36517.829354  21161.721625  67.00  17741.250   \n",
       "age                5110.0     43.226614     22.612647   0.08     25.000   \n",
       "hypertension       5110.0      0.097456      0.296607   0.00      0.000   \n",
       "heart_disease      5110.0      0.054012      0.226063   0.00      0.000   \n",
       "avg_glucose_level  5110.0    106.147677     45.283560  55.12     77.245   \n",
       "bmi                4909.0     28.893237      7.854067  10.30     23.500   \n",
       "stroke             5110.0      0.048728      0.215320   0.00      0.000   \n",
       "\n",
       "                         50%       75%       max  \n",
       "id                 36932.000  54682.00  72940.00  \n",
       "age                   45.000     61.00     82.00  \n",
       "hypertension           0.000      0.00      1.00  \n",
       "heart_disease          0.000      0.00      1.00  \n",
       "avg_glucose_level     91.885    114.09    271.74  \n",
       "bmi                   28.100     33.10     97.60  \n",
       "stroke                 0.000      0.00      1.00  "
      ]
     },
     "execution_count": 281,
     "metadata": {},
     "output_type": "execute_result"
    }
   ],
   "source": [
    "df.describe().T"
   ]
  },
  {
   "cell_type": "markdown",
   "id": "c194f35c",
   "metadata": {},
   "source": [
    "### Наблюдение (2)\n",
    "\n",
    "1. Средний возраст людей составляет 43 года со стандартным отклонением 22,6 лет, что означает, что были охвачены почти все возрастные группы. Максимальный возраст составляет 82 года, минимальный — 1 месяц.\n",
    "\n",
    "2. Средний уровень глюкозы составляет 106,1 мг/дл со стандартным отклонением 45,3 мг/дл, что в целом указывает на здоровое состояние большинства людей, но есть и те, у кого показатели глюкозы нездоровые. Максимальное значение достигает 271,7 мг/дл.\n",
    "\n",
    "3. Средний уровень индекса массы тела составляет 28,9 кг/м², и учитывая стандартное отклонение 7,9 кг/м², можно предположить, что большинство людей имеют избыточный вес. Максимальный индекс составляет 97,6 кг/м², что указывает на очевидную ожирение.\n",
    "\n",
    "4. Стоит отметить, что средние значения следующих параметров (гипертония, сердечные заболевания, инсульт) довольно низки, и это говорит о том, что в датасете будет мало положительных значений. Скорее всего, будет сложно что-то предсказать с такой недопредставленной информацией."
   ]
  },
  {
   "cell_type": "code",
   "execution_count": 282,
   "id": "defab486",
   "metadata": {},
   "outputs": [
    {
     "data": {
      "text/html": [
       "<div>\n",
       "<style scoped>\n",
       "    .dataframe tbody tr th:only-of-type {\n",
       "        vertical-align: middle;\n",
       "    }\n",
       "\n",
       "    .dataframe tbody tr th {\n",
       "        vertical-align: top;\n",
       "    }\n",
       "\n",
       "    .dataframe thead th {\n",
       "        text-align: right;\n",
       "    }\n",
       "</style>\n",
       "<table border=\"1\" class=\"dataframe\">\n",
       "  <thead>\n",
       "    <tr style=\"text-align: right;\">\n",
       "      <th></th>\n",
       "      <th>count</th>\n",
       "      <th>unique</th>\n",
       "      <th>top</th>\n",
       "      <th>freq</th>\n",
       "    </tr>\n",
       "  </thead>\n",
       "  <tbody>\n",
       "    <tr>\n",
       "      <th>gender</th>\n",
       "      <td>5110</td>\n",
       "      <td>3</td>\n",
       "      <td>Female</td>\n",
       "      <td>2994</td>\n",
       "    </tr>\n",
       "    <tr>\n",
       "      <th>ever_married</th>\n",
       "      <td>5110</td>\n",
       "      <td>2</td>\n",
       "      <td>Yes</td>\n",
       "      <td>3353</td>\n",
       "    </tr>\n",
       "    <tr>\n",
       "      <th>work_type</th>\n",
       "      <td>5110</td>\n",
       "      <td>5</td>\n",
       "      <td>Private</td>\n",
       "      <td>2925</td>\n",
       "    </tr>\n",
       "    <tr>\n",
       "      <th>Residence_type</th>\n",
       "      <td>5110</td>\n",
       "      <td>2</td>\n",
       "      <td>Urban</td>\n",
       "      <td>2596</td>\n",
       "    </tr>\n",
       "    <tr>\n",
       "      <th>smoking_status</th>\n",
       "      <td>5110</td>\n",
       "      <td>4</td>\n",
       "      <td>never smoked</td>\n",
       "      <td>1892</td>\n",
       "    </tr>\n",
       "  </tbody>\n",
       "</table>\n",
       "</div>"
      ],
      "text/plain": [
       "               count unique           top  freq\n",
       "gender          5110      3        Female  2994\n",
       "ever_married    5110      2           Yes  3353\n",
       "work_type       5110      5       Private  2925\n",
       "Residence_type  5110      2         Urban  2596\n",
       "smoking_status  5110      4  never smoked  1892"
      ]
     },
     "execution_count": 282,
     "metadata": {},
     "output_type": "execute_result"
    }
   ],
   "source": [
    "df.describe(exclude=[np.number]).T"
   ]
  },
  {
   "cell_type": "markdown",
   "id": "18ac85fc",
   "metadata": {},
   "source": [
    "### Наблюдение (3)\n",
    "\n",
    "Категориальные данные полностью заполнены. Странно, что для \"Gender\" есть три уникальных значения. Это следует исследовать и, при необходимости, предварительно обработать."
   ]
  },
  {
   "cell_type": "markdown",
   "id": "18e09970",
   "metadata": {},
   "source": [
    "### CATEGORICAL VARIABLES IN MORE DETAIL"
   ]
  },
  {
   "cell_type": "code",
   "execution_count": 283,
   "id": "962cd2f2",
   "metadata": {},
   "outputs": [
    {
     "data": {
      "text/plain": [
       "gender\n",
       "Female    2994\n",
       "Male      2115\n",
       "Other        1\n",
       "Name: count, dtype: int64"
      ]
     },
     "execution_count": 283,
     "metadata": {},
     "output_type": "execute_result"
    }
   ],
   "source": [
    "df.gender.value_counts()"
   ]
  },
  {
   "cell_type": "code",
   "execution_count": 284,
   "id": "166e029c",
   "metadata": {},
   "outputs": [
    {
     "data": {
      "text/html": [
       "<div>\n",
       "<style scoped>\n",
       "    .dataframe tbody tr th:only-of-type {\n",
       "        vertical-align: middle;\n",
       "    }\n",
       "\n",
       "    .dataframe tbody tr th {\n",
       "        vertical-align: top;\n",
       "    }\n",
       "\n",
       "    .dataframe thead th {\n",
       "        text-align: right;\n",
       "    }\n",
       "</style>\n",
       "<table border=\"1\" class=\"dataframe\">\n",
       "  <thead>\n",
       "    <tr style=\"text-align: right;\">\n",
       "      <th></th>\n",
       "      <th>id</th>\n",
       "      <th>gender</th>\n",
       "      <th>age</th>\n",
       "      <th>hypertension</th>\n",
       "      <th>heart_disease</th>\n",
       "      <th>ever_married</th>\n",
       "      <th>work_type</th>\n",
       "      <th>Residence_type</th>\n",
       "      <th>avg_glucose_level</th>\n",
       "      <th>bmi</th>\n",
       "      <th>smoking_status</th>\n",
       "      <th>stroke</th>\n",
       "    </tr>\n",
       "  </thead>\n",
       "  <tbody>\n",
       "    <tr>\n",
       "      <th>3116</th>\n",
       "      <td>56156</td>\n",
       "      <td>Other</td>\n",
       "      <td>26.0</td>\n",
       "      <td>0</td>\n",
       "      <td>0</td>\n",
       "      <td>No</td>\n",
       "      <td>Private</td>\n",
       "      <td>Rural</td>\n",
       "      <td>143.33</td>\n",
       "      <td>22.4</td>\n",
       "      <td>formerly smoked</td>\n",
       "      <td>0</td>\n",
       "    </tr>\n",
       "  </tbody>\n",
       "</table>\n",
       "</div>"
      ],
      "text/plain": [
       "         id gender   age  hypertension  heart_disease ever_married work_type  \\\n",
       "3116  56156  Other  26.0             0              0           No   Private   \n",
       "\n",
       "     Residence_type  avg_glucose_level   bmi   smoking_status  stroke  \n",
       "3116          Rural             143.33  22.4  formerly smoked       0  "
      ]
     },
     "execution_count": 284,
     "metadata": {},
     "output_type": "execute_result"
    }
   ],
   "source": [
    "df[df.gender=='Other']"
   ]
  },
  {
   "cell_type": "markdown",
   "id": "05640a6e",
   "metadata": {},
   "source": [
    "### Наблюдение (4)\n",
    "\n",
    "Так как только в одной строке пол указан как \"Other\", я делаю предположение в анализе, что это мог быть мужчина. В любом случае, это не сильно повлияет на конечный результат."
   ]
  },
  {
   "cell_type": "code",
   "execution_count": 285,
   "id": "59ae51e2",
   "metadata": {
    "scrolled": true
   },
   "outputs": [
    {
     "data": {
      "image/png": "[encoded data removed]",
      "text/plain": [
       "<Figure size 640x480 with 1 Axes>"
      ]
     },
     "metadata": {},
     "output_type": "display_data"
    }
   ],
   "source": [
    "plt.figure()\n",
    "sns.countplot(x='stroke', hue='gender', data=df)\n",
    "plt.show()"
   ]
  },
  {
   "cell_type": "markdown",
   "id": "8b6abb1f",
   "metadata": {},
   "source": [
    "### Наблюдение (5)\n",
    "\n",
    "Как показано на диаграмме, соотношение между мужчинами и женщинами немного отличается для обоих значений \"stroke\". И, как упоминалось ранее, положительные значения параметра \"stroke\" представлены значительно меньше."
   ]
  },
  {
   "cell_type": "code",
   "execution_count": 286,
   "id": "cec0ac55",
   "metadata": {
    "scrolled": true
   },
   "outputs": [
    {
     "data": {
      "image/png": "[encoded data removed]",
      "text/plain": [
       "<Figure size 640x480 with 1 Axes>"
      ]
     },
     "metadata": {},
     "output_type": "display_data"
    }
   ],
   "source": [
    "plt.figure\n",
    "sns.histplot(x=\"work_type\",hue=\"stroke\",multiple=\"stack\",data=df)\n",
    "plt.show()"
   ]
  },
  {
   "cell_type": "code",
   "execution_count": 287,
   "id": "f59524c4",
   "metadata": {
    "scrolled": true
   },
   "outputs": [
    {
     "data": {
      "image/png": "[encoded data removed]",
      "text/plain": [
       "<Figure size 640x480 with 1 Axes>"
      ]
     },
     "metadata": {},
     "output_type": "display_data"
    }
   ],
   "source": [
    "sns.boxplot(x='work_type',y='age', data=df)\n",
    "plt.show()"
   ]
  },
  {
   "cell_type": "markdown",
   "id": "3d35c64c",
   "metadata": {},
   "source": [
    "### Наблюдение (6)\n",
    "\n",
    "1. Большинство людей работают в частных компаниях. Также в этой категории наблюдается большое количество инсультов.\n",
    "\n",
    "2. Небольшое количество безработных людей.\n",
    "\n",
    "3. Люди старше 60 лет предпочитают работать на себя, возможно, причина в выходе на пенсию.\n",
    "\n",
    "4. Интересно, что люди младше 40 лет не работают на государственной службе."
   ]
  },
  {
   "cell_type": "code",
   "execution_count": 288,
   "id": "0b5aab63",
   "metadata": {},
   "outputs": [
    {
     "data": {
      "image/png": "[encoded data removed]",
      "text/plain": [
       "<Figure size 640x480 with 1 Axes>"
      ]
     },
     "metadata": {},
     "output_type": "display_data"
    }
   ],
   "source": [
    "plt.figure\n",
    "sns.histplot(x=\"smoking_status\",hue=\"stroke\",multiple=\"stack\",data=df)\n",
    "plt.show()"
   ]
  },
  {
   "cell_type": "markdown",
   "id": "c3b34000",
   "metadata": {},
   "source": [
    "### Наблюдение (7.1)\n",
    "\n",
    "На основе гистограммы выше, большинство людей никогда не курили, и много данных неизвестно. Последнее может усложнить анализ. Необходимо определить, возможно ли предварительно обработать данные, чтобы они были более релевантными."
   ]
  },
  {
   "cell_type": "code",
   "execution_count": 289,
   "id": "2c8faef2",
   "metadata": {},
   "outputs": [
    {
     "data": {
      "image/png": "[encoded data removed]",
      "text/plain": [
       "<Figure size 640x480 with 1 Axes>"
      ]
     },
     "metadata": {},
     "output_type": "display_data"
    }
   ],
   "source": [
    "sns.histplot(x=\"work_type\",hue=\"smoking_status\",multiple=\"stack\",data=df)\n",
    "plt.show()"
   ]
  },
  {
   "cell_type": "code",
   "execution_count": 290,
   "id": "c954f60b",
   "metadata": {
    "scrolled": false
   },
   "outputs": [
    {
     "data": {
      "text/plain": [
       "smoking_status\n",
       "Unknown            618\n",
       "never smoked        54\n",
       "formerly smoked     13\n",
       "smokes               2\n",
       "Name: count, dtype: int64"
      ]
     },
     "execution_count": 290,
     "metadata": {},
     "output_type": "execute_result"
    }
   ],
   "source": [
    "df.loc[df.work_type == \"children\",\"smoking_status\"].value_counts()"
   ]
  },
  {
   "cell_type": "code",
   "execution_count": 291,
   "id": "45f0ad48",
   "metadata": {
    "scrolled": true
   },
   "outputs": [
    {
     "data": {
      "text/plain": [
       "smoking_status\n",
       "Unknown            521\n",
       "never smoked        16\n",
       "formerly smoked      5\n",
       "smokes               1\n",
       "Name: count, dtype: int64"
      ]
     },
     "execution_count": 291,
     "metadata": {},
     "output_type": "execute_result"
    }
   ],
   "source": [
    "df.loc[df.age < 12,\"smoking_status\"].value_counts()"
   ]
  },
  {
   "cell_type": "markdown",
   "id": "3ffc0176",
   "metadata": {},
   "source": [
    "### Наблюдение (7.2)\n",
    "Как видно из гистограммы, около половины \"unknown\" значений приходится на категорию \"children\", и поэтому можно предположить, что дети должны быть в категории \"never smoked\"."
   ]
  },
  {
   "cell_type": "code",
   "execution_count": 292,
   "id": "cda87360",
   "metadata": {
    "scrolled": true
   },
   "outputs": [],
   "source": [
    "df_children_never_smoked = df\n",
    "df_children_never_smoked.loc[df.work_type == \"children\",\"smoking_status\"] = 'never smoked'"
   ]
  },
  {
   "cell_type": "code",
   "execution_count": 293,
   "id": "e524bf13",
   "metadata": {
    "scrolled": true
   },
   "outputs": [
    {
     "data": {
      "image/png": "[encoded data removed]",
      "text/plain": [
       "<Figure size 640x480 with 1 Axes>"
      ]
     },
     "metadata": {},
     "output_type": "display_data"
    }
   ],
   "source": [
    "sns.histplot(x=\"gender\",hue=\"smoking_status\",multiple=\"stack\",data=df_children_never_smoked)\n",
    "plt.show()"
   ]
  },
  {
   "cell_type": "code",
   "execution_count": 294,
   "id": "115af302",
   "metadata": {
    "scrolled": true
   },
   "outputs": [
    {
     "data": {
      "text/plain": [
       "smoking_status\n",
       "never smoked       1528\n",
       "Unknown             544\n",
       "formerly smoked     471\n",
       "smokes              451\n",
       "Name: count, dtype: int64"
      ]
     },
     "execution_count": 294,
     "metadata": {},
     "output_type": "execute_result"
    }
   ],
   "source": [
    "df[df_children_never_smoked.gender=='Female'].smoking_status.value_counts()"
   ]
  },
  {
   "cell_type": "markdown",
   "id": "8ec9de9c",
   "metadata": {},
   "source": [
    "### Наблюдение (7.3)\n",
    "1. Если исключить детей и рассматривать только взрослых курильщиков, то по статистике соотношение мужчин к женщинам должно быть как минимум 2:1, поэтому можно предположить, что количество курильщиков-мужчин недопредставлено.\n",
    "2. Так как количество некурящих женщин всегда выше, то теоретически можно определить оставшиеся \"unknowns\" по часто встречающемуся значению. Это всего лишь предположение."
   ]
  },
  {
   "cell_type": "code",
   "execution_count": 295,
   "id": "dfb4a943",
   "metadata": {
    "scrolled": true
   },
   "outputs": [
    {
     "data": {
      "image/png": "[encoded data removed]",
      "text/plain": [
       "<Figure size 640x480 with 1 Axes>"
      ]
     },
     "metadata": {},
     "output_type": "display_data"
    }
   ],
   "source": [
    "plt.figure\n",
    "sns.histplot(x=\"ever_married\",hue=\"stroke\",multiple=\"stack\",data=df)\n",
    "plt.show()"
   ]
  },
  {
   "cell_type": "markdown",
   "id": "bd85da9f",
   "metadata": {},
   "source": [
    "### Наблюдение (8)\n",
    "Диаграмма показывает неравномерное распределение \"ever-married\" и \"never-married\" людей, и можно отметить, что большое количество положительных значений \"stroke\" приходится на категорию \"ever-married\" людей."
   ]
  },
  {
   "cell_type": "code",
   "execution_count": 296,
   "id": "a502c8a3",
   "metadata": {},
   "outputs": [
    {
     "data": {
      "image/png": "[encoded data removed]",
      "text/plain": [
       "<Figure size 640x480 with 1 Axes>"
      ]
     },
     "metadata": {},
     "output_type": "display_data"
    }
   ],
   "source": [
    "plt.figure\n",
    "sns.histplot(x=\"Residence_type\",hue=\"stroke\",multiple=\"stack\",data=df)\n",
    "plt.show()"
   ]
  },
  {
   "cell_type": "markdown",
   "id": "54def114",
   "metadata": {},
   "source": [
    "### Наблюдение (9)\n",
    "Диаграмма показывает равномерное количество жителей сельской и городской местности, но, по-видимому, место жительства не особенно влияет на возникновение инсульта."
   ]
  },
  {
   "cell_type": "markdown",
   "id": "cb8d5eea",
   "metadata": {},
   "source": [
    "### QUANTITATIVE VARIABLES IN MORE DETAIL"
   ]
  },
  {
   "cell_type": "code",
   "execution_count": 297,
   "id": "e8dffc4f",
   "metadata": {
    "scrolled": false
   },
   "outputs": [
    {
     "data": {
      "image/png": "[encoded data removed]",
      "text/plain": [
       "<Figure size 640x480 with 1 Axes>"
      ]
     },
     "metadata": {},
     "output_type": "display_data"
    }
   ],
   "source": [
    "sns.boxplot(x='stroke',y='age', data=df)\n",
    "plt.show()"
   ]
  },
  {
   "cell_type": "code",
   "execution_count": 298,
   "id": "cdc8a93c",
   "metadata": {
    "scrolled": true
   },
   "outputs": [
    {
     "data": {
      "image/png": "[encoded data removed]",
      "text/plain": [
       "<Figure size 640x480 with 1 Axes>"
      ]
     },
     "metadata": {},
     "output_type": "display_data"
    }
   ],
   "source": [
    "seaborn_plot = sns.violinplot(x='stroke',y='age', data=df)\n",
    "plt.title('Распределение возраста по инсульту')\n",
    "plt.show()"
   ]
  },
  {
   "cell_type": "markdown",
   "id": "640d89fb",
   "metadata": {},
   "source": [
    "### Наблюдение (10)\n",
    "Эти графики выше показывают, что в основном более пожилые люди подвержены заболеванию, учитывая некоторые исключения. График также подтверждает это.\n",
    "\n"
   ]
  },
  {
   "cell_type": "code",
   "execution_count": 299,
   "id": "e826a751",
   "metadata": {
    "scrolled": true
   },
   "outputs": [
    {
     "data": {
      "image/png": "[encoded data removed]",
      "text/plain": [
       "<Figure size 500x500 with 1 Axes>"
      ]
     },
     "metadata": {},
     "output_type": "display_data"
    },
    {
     "data": {
      "image/png": "[encoded data removed]",
      "text/plain": [
       "<Figure size 500x500 with 1 Axes>"
      ]
     },
     "metadata": {},
     "output_type": "display_data"
    },
    {
     "data": {
      "image/png": "[encoded data removed]",
      "text/plain": [
       "<Figure size 500x500 with 1 Axes>"
      ]
     },
     "metadata": {},
     "output_type": "display_data"
    }
   ],
   "source": [
    "plt.figure(figsize=(5,5))\n",
    "sns.histplot(x=\"age\",hue=\"stroke\",multiple=\"stack\",data=df)\n",
    "plt.show()\n",
    "\n",
    "plt.figure(figsize=(5,5))\n",
    "sns.histplot(x=\"age\",hue=\"heart_disease\",multiple=\"stack\",data=df)\n",
    "plt.show()\n",
    "\n",
    "plt.figure(figsize=(5,5))\n",
    "sns.histplot(x=\"age\",hue=\"hypertension\",multiple=\"stack\",data=df)\n",
    "plt.show()"
   ]
  },
  {
   "cell_type": "markdown",
   "id": "3f42742e",
   "metadata": {},
   "source": [
    "### Наблюдение (11)\n",
    "Как упоминалось ранее, пожилые люди страдают от инсульта гораздо чаще. Также стоит отметить, что распределения заболеваний почти одинаковы на всех гистограммах, поэтому необходимо выяснить, существует ли какая-либо значительная корреляция между ними."
   ]
  },
  {
   "cell_type": "code",
   "execution_count": 300,
   "id": "74ca0272",
   "metadata": {},
   "outputs": [
    {
     "data": {
      "image/png": "[encoded data removed]",
      "text/plain": [
       "<Figure size 1000x700 with 2 Axes>"
      ]
     },
     "metadata": {},
     "output_type": "display_data"
    }
   ],
   "source": [
    "numeric_df = df.select_dtypes(include=[np.number])\n",
    "\n",
    "# Вычисление корреляционной матрицы\n",
    "correlation_matrix = numeric_df.corr()\n",
    "plt.figure(figsize=(10,7))\n",
    "\n",
    "sns.heatmap(correlation_matrix, annot=True, cmap='coolwarm')\n",
    "plt.show()"
   ]
  },
  {
   "cell_type": "markdown",
   "id": "1515b1dc",
   "metadata": {},
   "source": [
    "### Наблюдение (12)\n",
    "Как оказалось, особенно сильных корреляций нигде нет. Максимальная корреляция составляет 33% (между индексом массы тела и возрастом)."
   ]
  },
  {
   "cell_type": "code",
   "execution_count": 301,
   "id": "34b42fdd",
   "metadata": {
    "scrolled": true
   },
   "outputs": [
    {
     "data": {
      "image/png": "[encoded data removed]",
      "text/plain": [
       "<Figure size 640x480 with 1 Axes>"
      ]
     },
     "metadata": {},
     "output_type": "display_data"
    },
    {
     "data": {
      "image/png": "[encoded data removed]",
      "text/plain": [
       "<Figure size 1000x500 with 1 Axes>"
      ]
     },
     "metadata": {},
     "output_type": "display_data"
    }
   ],
   "source": [
    "sns.histplot(df['avg_glucose_level'],kde=True)\n",
    "plt.show()\n",
    "plt.figure(figsize=(10,5))\n",
    "\n",
    "sns.histplot(df['bmi'],kde=True)\n",
    "plt.show()"
   ]
  },
  {
   "cell_type": "markdown",
   "id": "bdc465fe",
   "metadata": {},
   "source": [
    "### Наблюдение (13)\n",
    "1. Гистограмма индекса массы тела имеет нормальное распределение, что дает нам право заменить отсутствующие значения на среднее арифметическое.\n",
    "2. Гистограмма среднего уровня глюкозы имеет бимодальное распределение, что указывает на гетерогенность данных, возможно, их следует разделить на категории для более точного прогнозирования."
   ]
  },
  {
   "cell_type": "code",
   "execution_count": 302,
   "id": "54266573",
   "metadata": {},
   "outputs": [],
   "source": [
    "df_obesity = df[df.bmi >30]"
   ]
  },
  {
   "cell_type": "code",
   "execution_count": 303,
   "id": "61cec94e",
   "metadata": {
    "scrolled": true
   },
   "outputs": [
    {
     "data": {
      "image/png": "[encoded data removed]",
      "text/plain": [
       "<Figure size 640x480 with 1 Axes>"
      ]
     },
     "metadata": {},
     "output_type": "display_data"
    },
    {
     "data": {
      "image/png": "[encoded data removed]",
      "text/plain": [
       "<Figure size 640x480 with 1 Axes>"
      ]
     },
     "metadata": {},
     "output_type": "display_data"
    }
   ],
   "source": [
    "sns.boxplot(x='stroke',y='avg_glucose_level', data=df)\n",
    "plt.show()\n",
    "\n",
    "sns.boxplot(x='stroke',y='avg_glucose_level', data=df_obesity)\n",
    "plt.show()"
   ]
  },
  {
   "cell_type": "markdown",
   "id": "3c618511",
   "metadata": {},
   "source": [
    "###  Наблюдение (14)\n",
    "При фильтрации людей с избыточным весом можно заметить, что медиана среднего уровня глюкозы увеличилась (с 100 до 150 мг/дл) для людей, у которых был инсульт. Следует учитывать, что индекс массы тела также может быть категоризирован для правильного анализа."
   ]
  },
  {
   "cell_type": "markdown",
   "id": "670f05df",
   "metadata": {},
   "source": [
    "# 2. Data cleaning and processing"
   ]
  },
  {
   "cell_type": "code",
   "execution_count": 304,
   "id": "2d692613",
   "metadata": {},
   "outputs": [],
   "source": [
    "df_clean = df.drop([\"id\"],axis=1) "
   ]
  },
  {
   "cell_type": "code",
   "execution_count": 305,
   "id": "5f8ebe05",
   "metadata": {},
   "outputs": [],
   "source": [
    "df_clean = df_clean.fillna(np.mean(df['bmi'])).round(2) "
   ]
  },
  {
   "cell_type": "code",
   "execution_count": 306,
   "id": "7ffe7d39",
   "metadata": {},
   "outputs": [],
   "source": [
    "df_clean.loc[df_clean.gender == 'Other', 'gender'] = 'Male' "
   ]
  },
  {
   "cell_type": "code",
   "execution_count": 307,
   "id": "81852170",
   "metadata": {},
   "outputs": [],
   "source": [
    "df_clean.loc[df.work_type == \"children\",\"smoking_status\"] = 'never smoked'"
   ]
  },
  {
   "cell_type": "code",
   "execution_count": 308,
   "id": "cc281077",
   "metadata": {
    "scrolled": true
   },
   "outputs": [],
   "source": [
    "df_clean.loc[(df_clean['smoking_status'] == 'Unknown') & (df_clean['gender'] == 'Male'),\"smoking_status\"] = 'smokes'"
   ]
  },
  {
   "cell_type": "code",
   "execution_count": 309,
   "id": "de7e3162",
   "metadata": {
    "scrolled": true
   },
   "outputs": [],
   "source": [
    "df_clean.loc[(df_clean['smoking_status'] == 'Unknown') & (df_clean['gender'] == 'Female'),\"smoking_status\"] = 'never smoked'"
   ]
  },
  {
   "cell_type": "code",
   "execution_count": 310,
   "id": "09da5303",
   "metadata": {
    "scrolled": false
   },
   "outputs": [
    {
     "data": {
      "text/plain": [
       "smoking_status\n",
       "never smoked       3069\n",
       "smokes             1169\n",
       "formerly smoked     872\n",
       "Name: count, dtype: int64"
      ]
     },
     "execution_count": 310,
     "metadata": {},
     "output_type": "execute_result"
    }
   ],
   "source": [
    "df_clean.smoking_status.value_counts()"
   ]
  },
  {
   "cell_type": "markdown",
   "id": "cd236e31",
   "metadata": {},
   "source": [
    "# 3. Feature engineering"
   ]
  },
  {
   "cell_type": "code",
   "execution_count": 311,
   "id": "17f24050",
   "metadata": {},
   "outputs": [
    {
     "data": {
      "text/html": [
       "<div>\n",
       "<style scoped>\n",
       "    .dataframe tbody tr th:only-of-type {\n",
       "        vertical-align: middle;\n",
       "    }\n",
       "\n",
       "    .dataframe tbody tr th {\n",
       "        vertical-align: top;\n",
       "    }\n",
       "\n",
       "    .dataframe thead th {\n",
       "        text-align: right;\n",
       "    }\n",
       "</style>\n",
       "<table border=\"1\" class=\"dataframe\">\n",
       "  <thead>\n",
       "    <tr style=\"text-align: right;\">\n",
       "      <th></th>\n",
       "      <th>gender</th>\n",
       "      <th>age</th>\n",
       "      <th>hypertension</th>\n",
       "      <th>heart_disease</th>\n",
       "      <th>ever_married</th>\n",
       "      <th>work_type</th>\n",
       "      <th>Residence_type</th>\n",
       "      <th>avg_glucose_level</th>\n",
       "      <th>bmi</th>\n",
       "      <th>smoking_status</th>\n",
       "      <th>stroke</th>\n",
       "    </tr>\n",
       "  </thead>\n",
       "  <tbody>\n",
       "    <tr>\n",
       "      <th>0</th>\n",
       "      <td>1</td>\n",
       "      <td>67.0</td>\n",
       "      <td>0</td>\n",
       "      <td>1</td>\n",
       "      <td>1</td>\n",
       "      <td>2</td>\n",
       "      <td>1</td>\n",
       "      <td>228.69</td>\n",
       "      <td>36.60</td>\n",
       "      <td>0</td>\n",
       "      <td>1</td>\n",
       "    </tr>\n",
       "    <tr>\n",
       "      <th>1</th>\n",
       "      <td>0</td>\n",
       "      <td>61.0</td>\n",
       "      <td>0</td>\n",
       "      <td>0</td>\n",
       "      <td>1</td>\n",
       "      <td>3</td>\n",
       "      <td>0</td>\n",
       "      <td>202.21</td>\n",
       "      <td>28.89</td>\n",
       "      <td>1</td>\n",
       "      <td>1</td>\n",
       "    </tr>\n",
       "    <tr>\n",
       "      <th>2</th>\n",
       "      <td>1</td>\n",
       "      <td>80.0</td>\n",
       "      <td>0</td>\n",
       "      <td>1</td>\n",
       "      <td>1</td>\n",
       "      <td>2</td>\n",
       "      <td>0</td>\n",
       "      <td>105.92</td>\n",
       "      <td>32.50</td>\n",
       "      <td>1</td>\n",
       "      <td>1</td>\n",
       "    </tr>\n",
       "    <tr>\n",
       "      <th>3</th>\n",
       "      <td>0</td>\n",
       "      <td>49.0</td>\n",
       "      <td>0</td>\n",
       "      <td>0</td>\n",
       "      <td>1</td>\n",
       "      <td>2</td>\n",
       "      <td>1</td>\n",
       "      <td>171.23</td>\n",
       "      <td>34.40</td>\n",
       "      <td>2</td>\n",
       "      <td>1</td>\n",
       "    </tr>\n",
       "    <tr>\n",
       "      <th>4</th>\n",
       "      <td>0</td>\n",
       "      <td>79.0</td>\n",
       "      <td>1</td>\n",
       "      <td>0</td>\n",
       "      <td>1</td>\n",
       "      <td>3</td>\n",
       "      <td>0</td>\n",
       "      <td>174.12</td>\n",
       "      <td>24.00</td>\n",
       "      <td>1</td>\n",
       "      <td>1</td>\n",
       "    </tr>\n",
       "  </tbody>\n",
       "</table>\n",
       "</div>"
      ],
      "text/plain": [
       "   gender   age  hypertension  heart_disease  ever_married  work_type  \\\n",
       "0       1  67.0             0              1             1          2   \n",
       "1       0  61.0             0              0             1          3   \n",
       "2       1  80.0             0              1             1          2   \n",
       "3       0  49.0             0              0             1          2   \n",
       "4       0  79.0             1              0             1          3   \n",
       "\n",
       "   Residence_type  avg_glucose_level    bmi  smoking_status  stroke  \n",
       "0               1             228.69  36.60               0       1  \n",
       "1               0             202.21  28.89               1       1  \n",
       "2               0             105.92  32.50               1       1  \n",
       "3               1             171.23  34.40               2       1  \n",
       "4               0             174.12  24.00               1       1  "
      ]
     },
     "execution_count": 311,
     "metadata": {},
     "output_type": "execute_result"
    }
   ],
   "source": [
    "# Преобразование категориальных переменных в числовые значения с использованием Label Encoding\n",
    "# Замена категориальных значений на числовые и преобразование типов данных в np.uint8 для экономии памяти\n",
    "categorical_columns = ['gender', 'ever_married', 'work_type', 'Residence_type', 'smoking_status']\n",
    "\n",
    "label_encoders = {}\n",
    "for column in categorical_columns:\n",
    "    label_encoders[column] = LabelEncoder()\n",
    "    df_clean[column] = label_encoders[column].fit_transform(df_clean[column]).astype(np.uint8)\n",
    "\n",
    "df_clean.head()"
   ]
  },
  {
   "cell_type": "code",
   "execution_count": 312,
   "id": "ee56f4bd",
   "metadata": {},
   "outputs": [],
   "source": [
    "def bmi_condition(x):\n",
    "    if x>30:\n",
    "        return 1 # Ожирение\n",
    "    elif x<18.5:\n",
    "        return 2 # Недостаточный вес\n",
    "    elif x >=25: \n",
    "        return 3 # Избыточный вес\n",
    "    else:\n",
    "        return 0 # Нормальный вес\n"
   ]
  },
  {
   "cell_type": "code",
   "execution_count": 313,
   "id": "75a965fa",
   "metadata": {
    "scrolled": true
   },
   "outputs": [],
   "source": [
    "df_clean['bmi_norm']=df_clean['bmi'].apply(bmi_condition) "
   ]
  },
  {
   "cell_type": "code",
   "execution_count": 314,
   "id": "c5edcb96",
   "metadata": {},
   "outputs": [],
   "source": [
    "def glucose_level_condition(x):\n",
    "    if x<140:\n",
    "        return 0 # Нормальный\n",
    "    elif x>200:\n",
    "        return 1 # Диабет\n",
    "    else:\n",
    "        return 2 # Преддиабет"
   ]
  },
  {
   "cell_type": "code",
   "execution_count": 315,
   "id": "b4f2bbb0",
   "metadata": {
    "scrolled": true
   },
   "outputs": [],
   "source": [
    "df_clean['avg_glucose_level_norm']=df_clean['avg_glucose_level'].apply(glucose_level_condition) "
   ]
  },
  {
   "cell_type": "code",
   "execution_count": 316,
   "id": "11b79bd4",
   "metadata": {},
   "outputs": [],
   "source": [
    "df_clean.drop(columns=['bmi','avg_glucose_level'],inplace=True)"
   ]
  },
  {
   "cell_type": "code",
   "execution_count": 317,
   "id": "c3e01365",
   "metadata": {},
   "outputs": [
    {
     "data": {
      "text/html": [
       "<div>\n",
       "<style scoped>\n",
       "    .dataframe tbody tr th:only-of-type {\n",
       "        vertical-align: middle;\n",
       "    }\n",
       "\n",
       "    .dataframe tbody tr th {\n",
       "        vertical-align: top;\n",
       "    }\n",
       "\n",
       "    .dataframe thead th {\n",
       "        text-align: right;\n",
       "    }\n",
       "</style>\n",
       "<table border=\"1\" class=\"dataframe\">\n",
       "  <thead>\n",
       "    <tr style=\"text-align: right;\">\n",
       "      <th></th>\n",
       "      <th>gender</th>\n",
       "      <th>age</th>\n",
       "      <th>hypertension</th>\n",
       "      <th>heart_disease</th>\n",
       "      <th>ever_married</th>\n",
       "      <th>work_type</th>\n",
       "      <th>Residence_type</th>\n",
       "      <th>smoking_status</th>\n",
       "      <th>stroke</th>\n",
       "      <th>bmi_norm</th>\n",
       "      <th>avg_glucose_level_norm</th>\n",
       "    </tr>\n",
       "  </thead>\n",
       "  <tbody>\n",
       "    <tr>\n",
       "      <th>0</th>\n",
       "      <td>1</td>\n",
       "      <td>67.0</td>\n",
       "      <td>0</td>\n",
       "      <td>1</td>\n",
       "      <td>1</td>\n",
       "      <td>2</td>\n",
       "      <td>1</td>\n",
       "      <td>0</td>\n",
       "      <td>1</td>\n",
       "      <td>1</td>\n",
       "      <td>1</td>\n",
       "    </tr>\n",
       "    <tr>\n",
       "      <th>1</th>\n",
       "      <td>0</td>\n",
       "      <td>61.0</td>\n",
       "      <td>0</td>\n",
       "      <td>0</td>\n",
       "      <td>1</td>\n",
       "      <td>3</td>\n",
       "      <td>0</td>\n",
       "      <td>1</td>\n",
       "      <td>1</td>\n",
       "      <td>3</td>\n",
       "      <td>1</td>\n",
       "    </tr>\n",
       "    <tr>\n",
       "      <th>2</th>\n",
       "      <td>1</td>\n",
       "      <td>80.0</td>\n",
       "      <td>0</td>\n",
       "      <td>1</td>\n",
       "      <td>1</td>\n",
       "      <td>2</td>\n",
       "      <td>0</td>\n",
       "      <td>1</td>\n",
       "      <td>1</td>\n",
       "      <td>1</td>\n",
       "      <td>0</td>\n",
       "    </tr>\n",
       "    <tr>\n",
       "      <th>3</th>\n",
       "      <td>0</td>\n",
       "      <td>49.0</td>\n",
       "      <td>0</td>\n",
       "      <td>0</td>\n",
       "      <td>1</td>\n",
       "      <td>2</td>\n",
       "      <td>1</td>\n",
       "      <td>2</td>\n",
       "      <td>1</td>\n",
       "      <td>1</td>\n",
       "      <td>2</td>\n",
       "    </tr>\n",
       "    <tr>\n",
       "      <th>4</th>\n",
       "      <td>0</td>\n",
       "      <td>79.0</td>\n",
       "      <td>1</td>\n",
       "      <td>0</td>\n",
       "      <td>1</td>\n",
       "      <td>3</td>\n",
       "      <td>0</td>\n",
       "      <td>1</td>\n",
       "      <td>1</td>\n",
       "      <td>0</td>\n",
       "      <td>2</td>\n",
       "    </tr>\n",
       "    <tr>\n",
       "      <th>...</th>\n",
       "      <td>...</td>\n",
       "      <td>...</td>\n",
       "      <td>...</td>\n",
       "      <td>...</td>\n",
       "      <td>...</td>\n",
       "      <td>...</td>\n",
       "      <td>...</td>\n",
       "      <td>...</td>\n",
       "      <td>...</td>\n",
       "      <td>...</td>\n",
       "      <td>...</td>\n",
       "    </tr>\n",
       "    <tr>\n",
       "      <th>5105</th>\n",
       "      <td>0</td>\n",
       "      <td>80.0</td>\n",
       "      <td>1</td>\n",
       "      <td>0</td>\n",
       "      <td>1</td>\n",
       "      <td>2</td>\n",
       "      <td>1</td>\n",
       "      <td>1</td>\n",
       "      <td>0</td>\n",
       "      <td>3</td>\n",
       "      <td>0</td>\n",
       "    </tr>\n",
       "    <tr>\n",
       "      <th>5106</th>\n",
       "      <td>0</td>\n",
       "      <td>81.0</td>\n",
       "      <td>0</td>\n",
       "      <td>0</td>\n",
       "      <td>1</td>\n",
       "      <td>3</td>\n",
       "      <td>1</td>\n",
       "      <td>1</td>\n",
       "      <td>0</td>\n",
       "      <td>1</td>\n",
       "      <td>0</td>\n",
       "    </tr>\n",
       "    <tr>\n",
       "      <th>5107</th>\n",
       "      <td>0</td>\n",
       "      <td>35.0</td>\n",
       "      <td>0</td>\n",
       "      <td>0</td>\n",
       "      <td>1</td>\n",
       "      <td>3</td>\n",
       "      <td>0</td>\n",
       "      <td>1</td>\n",
       "      <td>0</td>\n",
       "      <td>1</td>\n",
       "      <td>0</td>\n",
       "    </tr>\n",
       "    <tr>\n",
       "      <th>5108</th>\n",
       "      <td>1</td>\n",
       "      <td>51.0</td>\n",
       "      <td>0</td>\n",
       "      <td>0</td>\n",
       "      <td>1</td>\n",
       "      <td>2</td>\n",
       "      <td>0</td>\n",
       "      <td>0</td>\n",
       "      <td>0</td>\n",
       "      <td>3</td>\n",
       "      <td>2</td>\n",
       "    </tr>\n",
       "    <tr>\n",
       "      <th>5109</th>\n",
       "      <td>0</td>\n",
       "      <td>44.0</td>\n",
       "      <td>0</td>\n",
       "      <td>0</td>\n",
       "      <td>1</td>\n",
       "      <td>0</td>\n",
       "      <td>1</td>\n",
       "      <td>1</td>\n",
       "      <td>0</td>\n",
       "      <td>3</td>\n",
       "      <td>0</td>\n",
       "    </tr>\n",
       "  </tbody>\n",
       "</table>\n",
       "<p>5110 rows × 11 columns</p>\n",
       "</div>"
      ],
      "text/plain": [
       "      gender   age  hypertension  heart_disease  ever_married  work_type  \\\n",
       "0          1  67.0             0              1             1          2   \n",
       "1          0  61.0             0              0             1          3   \n",
       "2          1  80.0             0              1             1          2   \n",
       "3          0  49.0             0              0             1          2   \n",
       "4          0  79.0             1              0             1          3   \n",
       "...      ...   ...           ...            ...           ...        ...   \n",
       "5105       0  80.0             1              0             1          2   \n",
       "5106       0  81.0             0              0             1          3   \n",
       "5107       0  35.0             0              0             1          3   \n",
       "5108       1  51.0             0              0             1          2   \n",
       "5109       0  44.0             0              0             1          0   \n",
       "\n",
       "      Residence_type  smoking_status  stroke  bmi_norm  avg_glucose_level_norm  \n",
       "0                  1               0       1         1                       1  \n",
       "1                  0               1       1         3                       1  \n",
       "2                  0               1       1         1                       0  \n",
       "3                  1               2       1         1                       2  \n",
       "4                  0               1       1         0                       2  \n",
       "...              ...             ...     ...       ...                     ...  \n",
       "5105               1               1       0         3                       0  \n",
       "5106               1               1       0         1                       0  \n",
       "5107               0               1       0         1                       0  \n",
       "5108               0               0       0         3                       2  \n",
       "5109               1               1       0         3                       0  \n",
       "\n",
       "[5110 rows x 11 columns]"
      ]
     },
     "execution_count": 317,
     "metadata": {},
     "output_type": "execute_result"
    }
   ],
   "source": [
    "df_clean"
   ]
  },
  {
   "cell_type": "code",
   "execution_count": 318,
   "id": "17e122f9",
   "metadata": {},
   "outputs": [],
   "source": [
    "X = df_clean[['gender', 'age', 'hypertension','heart_disease', 'ever_married', 'work_type','Residence_type', 'smoking_status', 'bmi_norm','avg_glucose_level_norm']]"
   ]
  },
  {
   "cell_type": "code",
   "execution_count": 319,
   "id": "42f93a4f",
   "metadata": {},
   "outputs": [],
   "source": [
    "vif_data = pd.DataFrame()\n",
    "vif_data[\"feature\"] = X.columns"
   ]
  },
  {
   "cell_type": "code",
   "execution_count": 320,
   "id": "f3ced326",
   "metadata": {},
   "outputs": [
    {
     "name": "stdout",
     "output_type": "stream",
     "text": [
      "                  feature       VIF\n",
      "0                  gender  1.747709\n",
      "1                     age  8.268576\n",
      "2            hypertension  1.212894\n",
      "3           heart_disease  1.150054\n",
      "4            ever_married  5.519259\n",
      "5               work_type  3.115695\n",
      "6          Residence_type  1.934647\n",
      "7          smoking_status  3.177334\n",
      "8                bmi_norm  2.554321\n",
      "9  avg_glucose_level_norm  1.238198\n"
     ]
    }
   ],
   "source": [
    "# Вычисление фактора инфляции дисперсии (VIF) для каждой переменной в DataFrame X\n",
    "# VIF помогает оценить наличие мультиколлинеарности (корреляции между независимыми переменными)\n",
    "vif_data[\"VIF\"] = [variance_inflation_factor(X.values, i)\n",
    "                   for i in range(len(X.columns))]\n",
    "\n",
    "print(vif_data)"
   ]
  },
  {
   "cell_type": "markdown",
   "id": "423e2f70",
   "metadata": {},
   "source": [
    "### Наблюдение (15)\n",
    "Фактор инфляции дисперсии указывает на то, что две переменные (age и ever_married, VIF>5) потенциально имеют сильную корреляцию между собой и другими независимыми переменными. Одна из них должна быть исключена. И поскольку \"age\" крайне важен для дальнейшего анализа, столбец ever_married должен быть удален, чтобы избежать мультиколлинеарности."
   ]
  },
  {
   "cell_type": "code",
   "execution_count": 321,
   "id": "9b79a5fe",
   "metadata": {},
   "outputs": [],
   "source": [
    "df_clean.drop(columns=['ever_married'],inplace=True)"
   ]
  },
  {
   "cell_type": "code",
   "execution_count": 322,
   "id": "1e7a484a",
   "metadata": {},
   "outputs": [
    {
     "data": {
      "text/html": [
       "<div>\n",
       "<style scoped>\n",
       "    .dataframe tbody tr th:only-of-type {\n",
       "        vertical-align: middle;\n",
       "    }\n",
       "\n",
       "    .dataframe tbody tr th {\n",
       "        vertical-align: top;\n",
       "    }\n",
       "\n",
       "    .dataframe thead th {\n",
       "        text-align: right;\n",
       "    }\n",
       "</style>\n",
       "<table border=\"1\" class=\"dataframe\">\n",
       "  <thead>\n",
       "    <tr style=\"text-align: right;\">\n",
       "      <th></th>\n",
       "      <th>gender</th>\n",
       "      <th>age</th>\n",
       "      <th>hypertension</th>\n",
       "      <th>heart_disease</th>\n",
       "      <th>work_type</th>\n",
       "      <th>Residence_type</th>\n",
       "      <th>smoking_status</th>\n",
       "      <th>stroke</th>\n",
       "      <th>bmi_norm</th>\n",
       "      <th>avg_glucose_level_norm</th>\n",
       "    </tr>\n",
       "  </thead>\n",
       "  <tbody>\n",
       "    <tr>\n",
       "      <th>0</th>\n",
       "      <td>1</td>\n",
       "      <td>67.0</td>\n",
       "      <td>0</td>\n",
       "      <td>1</td>\n",
       "      <td>2</td>\n",
       "      <td>1</td>\n",
       "      <td>0</td>\n",
       "      <td>1</td>\n",
       "      <td>1</td>\n",
       "      <td>1</td>\n",
       "    </tr>\n",
       "    <tr>\n",
       "      <th>1</th>\n",
       "      <td>0</td>\n",
       "      <td>61.0</td>\n",
       "      <td>0</td>\n",
       "      <td>0</td>\n",
       "      <td>3</td>\n",
       "      <td>0</td>\n",
       "      <td>1</td>\n",
       "      <td>1</td>\n",
       "      <td>3</td>\n",
       "      <td>1</td>\n",
       "    </tr>\n",
       "    <tr>\n",
       "      <th>2</th>\n",
       "      <td>1</td>\n",
       "      <td>80.0</td>\n",
       "      <td>0</td>\n",
       "      <td>1</td>\n",
       "      <td>2</td>\n",
       "      <td>0</td>\n",
       "      <td>1</td>\n",
       "      <td>1</td>\n",
       "      <td>1</td>\n",
       "      <td>0</td>\n",
       "    </tr>\n",
       "    <tr>\n",
       "      <th>3</th>\n",
       "      <td>0</td>\n",
       "      <td>49.0</td>\n",
       "      <td>0</td>\n",
       "      <td>0</td>\n",
       "      <td>2</td>\n",
       "      <td>1</td>\n",
       "      <td>2</td>\n",
       "      <td>1</td>\n",
       "      <td>1</td>\n",
       "      <td>2</td>\n",
       "    </tr>\n",
       "    <tr>\n",
       "      <th>4</th>\n",
       "      <td>0</td>\n",
       "      <td>79.0</td>\n",
       "      <td>1</td>\n",
       "      <td>0</td>\n",
       "      <td>3</td>\n",
       "      <td>0</td>\n",
       "      <td>1</td>\n",
       "      <td>1</td>\n",
       "      <td>0</td>\n",
       "      <td>2</td>\n",
       "    </tr>\n",
       "    <tr>\n",
       "      <th>...</th>\n",
       "      <td>...</td>\n",
       "      <td>...</td>\n",
       "      <td>...</td>\n",
       "      <td>...</td>\n",
       "      <td>...</td>\n",
       "      <td>...</td>\n",
       "      <td>...</td>\n",
       "      <td>...</td>\n",
       "      <td>...</td>\n",
       "      <td>...</td>\n",
       "    </tr>\n",
       "    <tr>\n",
       "      <th>5105</th>\n",
       "      <td>0</td>\n",
       "      <td>80.0</td>\n",
       "      <td>1</td>\n",
       "      <td>0</td>\n",
       "      <td>2</td>\n",
       "      <td>1</td>\n",
       "      <td>1</td>\n",
       "      <td>0</td>\n",
       "      <td>3</td>\n",
       "      <td>0</td>\n",
       "    </tr>\n",
       "    <tr>\n",
       "      <th>5106</th>\n",
       "      <td>0</td>\n",
       "      <td>81.0</td>\n",
       "      <td>0</td>\n",
       "      <td>0</td>\n",
       "      <td>3</td>\n",
       "      <td>1</td>\n",
       "      <td>1</td>\n",
       "      <td>0</td>\n",
       "      <td>1</td>\n",
       "      <td>0</td>\n",
       "    </tr>\n",
       "    <tr>\n",
       "      <th>5107</th>\n",
       "      <td>0</td>\n",
       "      <td>35.0</td>\n",
       "      <td>0</td>\n",
       "      <td>0</td>\n",
       "      <td>3</td>\n",
       "      <td>0</td>\n",
       "      <td>1</td>\n",
       "      <td>0</td>\n",
       "      <td>1</td>\n",
       "      <td>0</td>\n",
       "    </tr>\n",
       "    <tr>\n",
       "      <th>5108</th>\n",
       "      <td>1</td>\n",
       "      <td>51.0</td>\n",
       "      <td>0</td>\n",
       "      <td>0</td>\n",
       "      <td>2</td>\n",
       "      <td>0</td>\n",
       "      <td>0</td>\n",
       "      <td>0</td>\n",
       "      <td>3</td>\n",
       "      <td>2</td>\n",
       "    </tr>\n",
       "    <tr>\n",
       "      <th>5109</th>\n",
       "      <td>0</td>\n",
       "      <td>44.0</td>\n",
       "      <td>0</td>\n",
       "      <td>0</td>\n",
       "      <td>0</td>\n",
       "      <td>1</td>\n",
       "      <td>1</td>\n",
       "      <td>0</td>\n",
       "      <td>3</td>\n",
       "      <td>0</td>\n",
       "    </tr>\n",
       "  </tbody>\n",
       "</table>\n",
       "<p>5110 rows × 10 columns</p>\n",
       "</div>"
      ],
      "text/plain": [
       "      gender   age  hypertension  heart_disease  work_type  Residence_type  \\\n",
       "0          1  67.0             0              1          2               1   \n",
       "1          0  61.0             0              0          3               0   \n",
       "2          1  80.0             0              1          2               0   \n",
       "3          0  49.0             0              0          2               1   \n",
       "4          0  79.0             1              0          3               0   \n",
       "...      ...   ...           ...            ...        ...             ...   \n",
       "5105       0  80.0             1              0          2               1   \n",
       "5106       0  81.0             0              0          3               1   \n",
       "5107       0  35.0             0              0          3               0   \n",
       "5108       1  51.0             0              0          2               0   \n",
       "5109       0  44.0             0              0          0               1   \n",
       "\n",
       "      smoking_status  stroke  bmi_norm  avg_glucose_level_norm  \n",
       "0                  0       1         1                       1  \n",
       "1                  1       1         3                       1  \n",
       "2                  1       1         1                       0  \n",
       "3                  2       1         1                       2  \n",
       "4                  1       1         0                       2  \n",
       "...              ...     ...       ...                     ...  \n",
       "5105               1       0         3                       0  \n",
       "5106               1       0         1                       0  \n",
       "5107               1       0         1                       0  \n",
       "5108               0       0         3                       2  \n",
       "5109               1       0         3                       0  \n",
       "\n",
       "[5110 rows x 10 columns]"
      ]
     },
     "execution_count": 322,
     "metadata": {},
     "output_type": "execute_result"
    }
   ],
   "source": [
    "df_clean"
   ]
  },
  {
   "cell_type": "code",
   "execution_count": 323,
   "id": "06876a69",
   "metadata": {},
   "outputs": [],
   "source": [
    "X = df_clean[['gender', 'age', 'hypertension','heart_disease', 'work_type','Residence_type', 'smoking_status', 'bmi_norm','avg_glucose_level_norm']]"
   ]
  },
  {
   "cell_type": "code",
   "execution_count": 324,
   "id": "56216165",
   "metadata": {},
   "outputs": [],
   "source": [
    "vif_data = pd.DataFrame()\n",
    "vif_data[\"feature\"] = X.columns"
   ]
  },
  {
   "cell_type": "code",
   "execution_count": 325,
   "id": "43886dff",
   "metadata": {},
   "outputs": [
    {
     "name": "stdout",
     "output_type": "stream",
     "text": [
      "                  feature       VIF\n",
      "0                  gender  1.747637\n",
      "1                     age  3.783216\n",
      "2            hypertension  1.211718\n",
      "3           heart_disease  1.139579\n",
      "4               work_type  3.081465\n",
      "5          Residence_type  1.933996\n",
      "6          smoking_status  3.159088\n",
      "7                bmi_norm  2.549126\n",
      "8  avg_glucose_level_norm  1.237894\n"
     ]
    }
   ],
   "source": [
    "vif_data[\"VIF\"] = [variance_inflation_factor(X.values, i)\n",
    "                          for i in range(len(X.columns))]\n",
    "  \n",
    "print(vif_data)"
   ]
  },
  {
   "cell_type": "markdown",
   "id": "fb1243b6",
   "metadata": {},
   "source": [
    "# 5. Model training and evaluation"
   ]
  },
  {
   "cell_type": "code",
   "execution_count": 326,
   "id": "fa28fe7c",
   "metadata": {},
   "outputs": [],
   "source": [
    "df_train, df_test = train_test_split(df_clean,test_size=0.2)"
   ]
  },
  {
   "cell_type": "code",
   "execution_count": 327,
   "id": "fcbe9ad2",
   "metadata": {},
   "outputs": [
    {
     "data": {
      "text/plain": [
       "4088"
      ]
     },
     "execution_count": 327,
     "metadata": {},
     "output_type": "execute_result"
    }
   ],
   "source": [
    "len(df_train)"
   ]
  },
  {
   "cell_type": "code",
   "execution_count": 328,
   "id": "9d0a9fb1",
   "metadata": {},
   "outputs": [
    {
     "data": {
      "text/plain": [
       "1022"
      ]
     },
     "execution_count": 328,
     "metadata": {},
     "output_type": "execute_result"
    }
   ],
   "source": [
    "len(df_test)"
   ]
  },
  {
   "cell_type": "code",
   "execution_count": 329,
   "id": "e454af93",
   "metadata": {},
   "outputs": [],
   "source": [
    "X_train = df_train.copy()\n",
    "y_train = X_train.pop(\"stroke\")"
   ]
  },
  {
   "cell_type": "code",
   "execution_count": 330,
   "id": "b408c84d",
   "metadata": {},
   "outputs": [],
   "source": [
    "X_test = df_test.copy()\n",
    "y_test = X_test.pop(\"stroke\")"
   ]
  },
  {
   "cell_type": "code",
   "execution_count": 331,
   "id": "5639d993",
   "metadata": {},
   "outputs": [
    {
     "data": {
      "text/plain": [
       "(4088, 9)"
      ]
     },
     "execution_count": 331,
     "metadata": {},
     "output_type": "execute_result"
    }
   ],
   "source": [
    "X_train.shape"
   ]
  },
  {
   "cell_type": "code",
   "execution_count": 332,
   "id": "2da9c8c6",
   "metadata": {
    "scrolled": false
   },
   "outputs": [
    {
     "data": {
      "text/plain": [
       "(1022, 9)"
      ]
     },
     "execution_count": 332,
     "metadata": {},
     "output_type": "execute_result"
    }
   ],
   "source": [
    "X_test.shape"
   ]
  },
  {
   "cell_type": "code",
   "execution_count": 333,
   "id": "4b9a787e",
   "metadata": {},
   "outputs": [
    {
     "data": {
      "text/plain": [
       "stroke\n",
       "0    3890\n",
       "1     198\n",
       "Name: count, dtype: int64"
      ]
     },
     "execution_count": 333,
     "metadata": {},
     "output_type": "execute_result"
    }
   ],
   "source": [
    "y_train.value_counts()"
   ]
  },
  {
   "cell_type": "code",
   "execution_count": 334,
   "id": "5178a328",
   "metadata": {},
   "outputs": [
    {
     "data": {
      "text/plain": [
       "stroke\n",
       "0    971\n",
       "1     51\n",
       "Name: count, dtype: int64"
      ]
     },
     "execution_count": 334,
     "metadata": {},
     "output_type": "execute_result"
    }
   ],
   "source": [
    "y_test.value_counts()"
   ]
  },
  {
   "cell_type": "code",
   "execution_count": null,
   "id": "0d2f2f10",
   "metadata": {
    "scrolled": true
   },
   "outputs": [
    {
     "name": "stderr",
     "output_type": "stream",
     "text": [
      "c:\\Users\\Oleg\\anaconda3\\Lib\\site-packages\\sklearn\\metrics\\_classification.py:1531: UndefinedMetricWarning: Precision is ill-defined and being set to 0.0 due to no predicted samples. Use `zero_division` parameter to control this behavior.\n",
      "  _warn_prf(average, modifier, f\"{metric.capitalize()} is\", len(result))\n",
      "c:\\Users\\Oleg\\anaconda3\\Lib\\site-packages\\sklearn\\metrics\\_classification.py:1531: UndefinedMetricWarning: Precision is ill-defined and being set to 0.0 due to no predicted samples. Use `zero_division` parameter to control this behavior.\n",
      "  _warn_prf(average, modifier, f\"{metric.capitalize()} is\", len(result))\n",
      "c:\\Users\\Oleg\\anaconda3\\Lib\\site-packages\\sklearn\\metrics\\_classification.py:1531: UndefinedMetricWarning: Precision is ill-defined and being set to 0.0 due to no predicted samples. Use `zero_division` parameter to control this behavior.\n",
      "  _warn_prf(average, modifier, f\"{metric.capitalize()} is\", len(result))\n"
     ]
    },
    {
     "data": {
      "text/html": [
       "<div>\n",
       "<style scoped>\n",
       "    .dataframe tbody tr th:only-of-type {\n",
       "        vertical-align: middle;\n",
       "    }\n",
       "\n",
       "    .dataframe tbody tr th {\n",
       "        vertical-align: top;\n",
       "    }\n",
       "\n",
       "    .dataframe thead th {\n",
       "        text-align: right;\n",
       "    }\n",
       "</style>\n",
       "<table border=\"1\" class=\"dataframe\">\n",
       "  <thead>\n",
       "    <tr style=\"text-align: right;\">\n",
       "      <th></th>\n",
       "      <th>Model</th>\n",
       "      <th>Accuracy</th>\n",
       "      <th>Precision</th>\n",
       "      <th>Recall</th>\n",
       "      <th>F1 Score</th>\n",
       "      <th>ROC AUC</th>\n",
       "      <th>MCC</th>\n",
       "      <th>TP</th>\n",
       "      <th>TN</th>\n",
       "      <th>FP</th>\n",
       "      <th>FN</th>\n",
       "    </tr>\n",
       "  </thead>\n",
       "  <tbody>\n",
       "    <tr>\n",
       "      <th>0</th>\n",
       "      <td>Logistic Regression</td>\n",
       "      <td>0.950098</td>\n",
       "      <td>0.000000</td>\n",
       "      <td>0.000000</td>\n",
       "      <td>0.000000</td>\n",
       "      <td>0.839876</td>\n",
       "      <td>0.000000</td>\n",
       "      <td>0</td>\n",
       "      <td>971</td>\n",
       "      <td>0</td>\n",
       "      <td>51</td>\n",
       "    </tr>\n",
       "    <tr>\n",
       "      <th>1</th>\n",
       "      <td>Decision Tree</td>\n",
       "      <td>0.905088</td>\n",
       "      <td>0.074074</td>\n",
       "      <td>0.078431</td>\n",
       "      <td>0.076190</td>\n",
       "      <td>0.538125</td>\n",
       "      <td>0.026220</td>\n",
       "      <td>4</td>\n",
       "      <td>921</td>\n",
       "      <td>50</td>\n",
       "      <td>47</td>\n",
       "    </tr>\n",
       "    <tr>\n",
       "      <th>2</th>\n",
       "      <td>Random Forest</td>\n",
       "      <td>0.926614</td>\n",
       "      <td>0.000000</td>\n",
       "      <td>0.000000</td>\n",
       "      <td>0.000000</td>\n",
       "      <td>0.726207</td>\n",
       "      <td>-0.035540</td>\n",
       "      <td>0</td>\n",
       "      <td>947</td>\n",
       "      <td>24</td>\n",
       "      <td>51</td>\n",
       "    </tr>\n",
       "    <tr>\n",
       "      <th>3</th>\n",
       "      <td>Support Vector Machine</td>\n",
       "      <td>0.950098</td>\n",
       "      <td>0.000000</td>\n",
       "      <td>0.000000</td>\n",
       "      <td>0.000000</td>\n",
       "      <td>0.421104</td>\n",
       "      <td>0.000000</td>\n",
       "      <td>0</td>\n",
       "      <td>971</td>\n",
       "      <td>0</td>\n",
       "      <td>51</td>\n",
       "    </tr>\n",
       "    <tr>\n",
       "      <th>4</th>\n",
       "      <td>K-Nearest Neighbors</td>\n",
       "      <td>0.945205</td>\n",
       "      <td>0.142857</td>\n",
       "      <td>0.019608</td>\n",
       "      <td>0.034483</td>\n",
       "      <td>0.649320</td>\n",
       "      <td>0.035452</td>\n",
       "      <td>1</td>\n",
       "      <td>965</td>\n",
       "      <td>6</td>\n",
       "      <td>50</td>\n",
       "    </tr>\n",
       "    <tr>\n",
       "      <th>5</th>\n",
       "      <td>Naive Bayes</td>\n",
       "      <td>0.876712</td>\n",
       "      <td>0.142857</td>\n",
       "      <td>0.294118</td>\n",
       "      <td>0.192308</td>\n",
       "      <td>0.811827</td>\n",
       "      <td>0.144457</td>\n",
       "      <td>15</td>\n",
       "      <td>881</td>\n",
       "      <td>90</td>\n",
       "      <td>36</td>\n",
       "    </tr>\n",
       "    <tr>\n",
       "      <th>6</th>\n",
       "      <td>Neural Network</td>\n",
       "      <td>0.950098</td>\n",
       "      <td>0.000000</td>\n",
       "      <td>0.000000</td>\n",
       "      <td>0.000000</td>\n",
       "      <td>0.821924</td>\n",
       "      <td>0.000000</td>\n",
       "      <td>0</td>\n",
       "      <td>971</td>\n",
       "      <td>0</td>\n",
       "      <td>51</td>\n",
       "    </tr>\n",
       "    <tr>\n",
       "      <th>7</th>\n",
       "      <td>XGBoost</td>\n",
       "      <td>0.932485</td>\n",
       "      <td>0.000000</td>\n",
       "      <td>0.000000</td>\n",
       "      <td>0.000000</td>\n",
       "      <td>0.769815</td>\n",
       "      <td>-0.030686</td>\n",
       "      <td>0</td>\n",
       "      <td>953</td>\n",
       "      <td>18</td>\n",
       "      <td>51</td>\n",
       "    </tr>\n",
       "  </tbody>\n",
       "</table>\n",
       "</div>"
      ],
      "text/plain": [
       "                    Model  Accuracy  Precision    Recall  F1 Score   ROC AUC  \\\n",
       "0     Logistic Regression  0.950098   0.000000  0.000000  0.000000  0.839876   \n",
       "1           Decision Tree  0.905088   0.074074  0.078431  0.076190  0.538125   \n",
       "2           Random Forest  0.926614   0.000000  0.000000  0.000000  0.726207   \n",
       "3  Support Vector Machine  0.950098   0.000000  0.000000  0.000000  0.421104   \n",
       "4     K-Nearest Neighbors  0.945205   0.142857  0.019608  0.034483  0.649320   \n",
       "5             Naive Bayes  0.876712   0.142857  0.294118  0.192308  0.811827   \n",
       "6          Neural Network  0.950098   0.000000  0.000000  0.000000  0.821924   \n",
       "7                 XGBoost  0.932485   0.000000  0.000000  0.000000  0.769815   \n",
       "\n",
       "        MCC  TP   TN  FP  FN  \n",
       "0  0.000000   0  971   0  51  \n",
       "1  0.026220   4  921  50  47  \n",
       "2 -0.035540   0  947  24  51  \n",
       "3  0.000000   0  971   0  51  \n",
       "4  0.035452   1  965   6  50  \n",
       "5  0.144457  15  881  90  36  \n",
       "6  0.000000   0  971   0  51  \n",
       "7 -0.030686   0  953  18  51  "
      ]
     },
     "execution_count": 336,
     "metadata": {},
     "output_type": "execute_result"
    }
   ],
   "source": [
    "# Создание списка классификаторов\n",
    "classifiers = [\n",
    "    ('Logistic Regression', LogisticRegression(max_iter=1000)),\n",
    "    ('Decision Tree', DecisionTreeClassifier()),\n",
    "    ('Random Forest', RandomForestClassifier()),\n",
    "    ('Support Vector Machine', SVC(probability=True)),  \n",
    "    ('K-Nearest Neighbors', KNeighborsClassifier()),\n",
    "    ('Naive Bayes', GaussianNB()),\n",
    "    ('Neural Network', MLPClassifier(max_iter=1000)),\n",
    "    ('XGBoost', XGBClassifier())\n",
    "]\n",
    "\n",
    "# Создание пустого DataFrame для хранения результатов\n",
    "results_df = pd.DataFrame(columns=['Model', 'Accuracy', 'Precision', 'Recall', 'F1 Score', 'ROC AUC', 'MCC', 'TP', 'TN', 'FP', 'FN'])\n",
    "\n",
    "# Обучение и оценка каждого классификатора\n",
    "for name, clf in classifiers:\n",
    "    clf.fit(X_train, y_train)\n",
    "    \n",
    "    y_pred = clf.predict(X_test)\n",
    "    \n",
    "    # Расчет метрик\n",
    "    accuracy = accuracy_score(y_test, y_pred)\n",
    "    precision = precision_score(y_test, y_pred)\n",
    "    recall = recall_score(y_test, y_pred)\n",
    "    f1 = f1_score(y_test, y_pred)\n",
    "    \n",
    "    # Получение значений из матрицы ошибок\n",
    "    tn, fp, fn, tp = confusion_matrix(y_test, y_pred).ravel()\n",
    "    \n",
    "    # Расчет коэффициента корреляции Мэтьюса\n",
    "    mcc = matthews_corrcoef(y_test, y_pred)\n",
    "\n",
    "    # Расчет ROC AUC только если доступен predict_proba\n",
    "    if hasattr(clf, \"predict_proba\"):\n",
    "        roc_auc = roc_auc_score(y_test, clf.predict_proba(X_test)[:, 1])\n",
    "    else:\n",
    "        roc_auc = None\n",
    "    \n",
    "    # Добавление результатов в DataFrame\n",
    "    results_df.loc[len(results_df)] = {\n",
    "        'Model': name,\n",
    "        'Accuracy': accuracy,\n",
    "        'Precision': precision,\n",
    "        'Recall': recall,\n",
    "        'F1 Score': f1,\n",
    "        'ROC AUC': roc_auc,\n",
    "        'MCC': mcc,\n",
    "        'TP': tp,\n",
    "        'TN': tn,\n",
    "        'FP': fp,\n",
    "        'FN': fn,\n",
    "    }\n",
    "\n",
    "results_df\n"
   ]
  },
  {
   "cell_type": "code",
   "execution_count": null,
   "id": "3f85ad24",
   "metadata": {
    "scrolled": false
   },
   "outputs": [
    {
     "name": "stderr",
     "output_type": "stream",
     "text": [
      "c:\\Users\\Oleg\\anaconda3\\Lib\\site-packages\\sklearn\\metrics\\_classification.py:1531: UndefinedMetricWarning: Precision is ill-defined and being set to 0.0 due to no predicted samples. Use `zero_division` parameter to control this behavior.\n",
      "  _warn_prf(average, modifier, f\"{metric.capitalize()} is\", len(result))\n",
      "c:\\Users\\Oleg\\anaconda3\\Lib\\site-packages\\sklearn\\metrics\\_classification.py:1531: UndefinedMetricWarning: Precision is ill-defined and being set to 0.0 due to no predicted samples. Use `zero_division` parameter to control this behavior.\n",
      "  _warn_prf(average, modifier, f\"{metric.capitalize()} is\", len(result))\n",
      "c:\\Users\\Oleg\\anaconda3\\Lib\\site-packages\\sklearn\\metrics\\_classification.py:1531: UndefinedMetricWarning: Precision is ill-defined and being set to 0.0 due to no predicted samples. Use `zero_division` parameter to control this behavior.\n",
      "  _warn_prf(average, modifier, f\"{metric.capitalize()} is\", len(result))\n"
     ]
    },
    {
     "data": {
      "text/html": [
       "<div>\n",
       "<style scoped>\n",
       "    .dataframe tbody tr th:only-of-type {\n",
       "        vertical-align: middle;\n",
       "    }\n",
       "\n",
       "    .dataframe tbody tr th {\n",
       "        vertical-align: top;\n",
       "    }\n",
       "\n",
       "    .dataframe thead th {\n",
       "        text-align: right;\n",
       "    }\n",
       "</style>\n",
       "<table border=\"1\" class=\"dataframe\">\n",
       "  <thead>\n",
       "    <tr style=\"text-align: right;\">\n",
       "      <th></th>\n",
       "      <th>Model</th>\n",
       "      <th>Accuracy</th>\n",
       "      <th>Precision</th>\n",
       "      <th>Recall</th>\n",
       "      <th>F1 Score</th>\n",
       "      <th>ROC AUC</th>\n",
       "      <th>MCC</th>\n",
       "      <th>TP</th>\n",
       "      <th>TN</th>\n",
       "      <th>FP</th>\n",
       "      <th>FN</th>\n",
       "    </tr>\n",
       "  </thead>\n",
       "  <tbody>\n",
       "    <tr>\n",
       "      <th>0</th>\n",
       "      <td>Logistic Regression</td>\n",
       "      <td>0.950098</td>\n",
       "      <td>0.000000</td>\n",
       "      <td>0.000000</td>\n",
       "      <td>0.000000</td>\n",
       "      <td>0.831698</td>\n",
       "      <td>0.000000</td>\n",
       "      <td>0</td>\n",
       "      <td>971</td>\n",
       "      <td>0</td>\n",
       "      <td>51</td>\n",
       "    </tr>\n",
       "    <tr>\n",
       "      <th>1</th>\n",
       "      <td>Decision Tree</td>\n",
       "      <td>0.924658</td>\n",
       "      <td>0.093750</td>\n",
       "      <td>0.058824</td>\n",
       "      <td>0.072289</td>\n",
       "      <td>0.610650</td>\n",
       "      <td>0.036204</td>\n",
       "      <td>3</td>\n",
       "      <td>942</td>\n",
       "      <td>29</td>\n",
       "      <td>48</td>\n",
       "    </tr>\n",
       "    <tr>\n",
       "      <th>2</th>\n",
       "      <td>Random Forest</td>\n",
       "      <td>0.945205</td>\n",
       "      <td>0.000000</td>\n",
       "      <td>0.000000</td>\n",
       "      <td>0.000000</td>\n",
       "      <td>0.786596</td>\n",
       "      <td>-0.016069</td>\n",
       "      <td>0</td>\n",
       "      <td>966</td>\n",
       "      <td>5</td>\n",
       "      <td>51</td>\n",
       "    </tr>\n",
       "    <tr>\n",
       "      <th>3</th>\n",
       "      <td>Support Vector Machine</td>\n",
       "      <td>0.950098</td>\n",
       "      <td>0.000000</td>\n",
       "      <td>0.000000</td>\n",
       "      <td>0.000000</td>\n",
       "      <td>0.426839</td>\n",
       "      <td>0.000000</td>\n",
       "      <td>0</td>\n",
       "      <td>971</td>\n",
       "      <td>0</td>\n",
       "      <td>51</td>\n",
       "    </tr>\n",
       "    <tr>\n",
       "      <th>4</th>\n",
       "      <td>K-Nearest Neighbors</td>\n",
       "      <td>0.949119</td>\n",
       "      <td>0.333333</td>\n",
       "      <td>0.019608</td>\n",
       "      <td>0.037037</td>\n",
       "      <td>0.693938</td>\n",
       "      <td>0.070628</td>\n",
       "      <td>1</td>\n",
       "      <td>969</td>\n",
       "      <td>2</td>\n",
       "      <td>50</td>\n",
       "    </tr>\n",
       "    <tr>\n",
       "      <th>5</th>\n",
       "      <td>Naive Bayes</td>\n",
       "      <td>0.876712</td>\n",
       "      <td>0.142857</td>\n",
       "      <td>0.294118</td>\n",
       "      <td>0.192308</td>\n",
       "      <td>0.811827</td>\n",
       "      <td>0.144457</td>\n",
       "      <td>15</td>\n",
       "      <td>881</td>\n",
       "      <td>90</td>\n",
       "      <td>36</td>\n",
       "    </tr>\n",
       "    <tr>\n",
       "      <th>6</th>\n",
       "      <td>Neural Network</td>\n",
       "      <td>0.950098</td>\n",
       "      <td>0.000000</td>\n",
       "      <td>0.000000</td>\n",
       "      <td>0.000000</td>\n",
       "      <td>0.824983</td>\n",
       "      <td>0.000000</td>\n",
       "      <td>0</td>\n",
       "      <td>971</td>\n",
       "      <td>0</td>\n",
       "      <td>51</td>\n",
       "    </tr>\n",
       "    <tr>\n",
       "      <th>7</th>\n",
       "      <td>XGBoost</td>\n",
       "      <td>0.945205</td>\n",
       "      <td>0.000000</td>\n",
       "      <td>0.000000</td>\n",
       "      <td>0.000000</td>\n",
       "      <td>0.830961</td>\n",
       "      <td>-0.016069</td>\n",
       "      <td>0</td>\n",
       "      <td>966</td>\n",
       "      <td>5</td>\n",
       "      <td>51</td>\n",
       "    </tr>\n",
       "  </tbody>\n",
       "</table>\n",
       "</div>"
      ],
      "text/plain": [
       "                    Model  Accuracy  Precision    Recall  F1 Score   ROC AUC  \\\n",
       "0     Logistic Regression  0.950098   0.000000  0.000000  0.000000  0.831698   \n",
       "1           Decision Tree  0.924658   0.093750  0.058824  0.072289  0.610650   \n",
       "2           Random Forest  0.945205   0.000000  0.000000  0.000000  0.786596   \n",
       "3  Support Vector Machine  0.950098   0.000000  0.000000  0.000000  0.426839   \n",
       "4     K-Nearest Neighbors  0.949119   0.333333  0.019608  0.037037  0.693938   \n",
       "5             Naive Bayes  0.876712   0.142857  0.294118  0.192308  0.811827   \n",
       "6          Neural Network  0.950098   0.000000  0.000000  0.000000  0.824983   \n",
       "7                 XGBoost  0.945205   0.000000  0.000000  0.000000  0.830961   \n",
       "\n",
       "        MCC  TP   TN  FP  FN  \n",
       "0  0.000000   0  971   0  51  \n",
       "1  0.036204   3  942  29  48  \n",
       "2 -0.016069   0  966   5  51  \n",
       "3  0.000000   0  971   0  51  \n",
       "4  0.070628   1  969   2  50  \n",
       "5  0.144457  15  881  90  36  \n",
       "6  0.000000   0  971   0  51  \n",
       "7 -0.016069   0  966   5  51  "
      ]
     },
     "execution_count": 337,
     "metadata": {},
     "output_type": "execute_result"
    }
   ],
   "source": [
    "# Создание списка классификаторов с сетками гиперпараметров\n",
    "classifiers = [\n",
    "    ('Logistic Regression', LogisticRegression(max_iter=1000), {'C': [0.001, 0.01, 0.1, 1, 10]}),\n",
    "    ('Decision Tree', DecisionTreeClassifier(), {'max_depth': [None, 10, 20, 30]}),\n",
    "    ('Random Forest', RandomForestClassifier(), {'n_estimators': [100, 200, 300], 'max_depth': [None, 10, 20, 30]}),\n",
    "    ('Support Vector Machine', SVC(probability=True), {'C': [0.001, 0.01, 0.1, 1, 10]}),\n",
    "    ('K-Nearest Neighbors', KNeighborsClassifier(), {'n_neighbors': [3, 5, 7]}),\n",
    "    ('Naive Bayes', GaussianNB(), {}),\n",
    "    ('Neural Network', MLPClassifier(max_iter=1000), {'hidden_layer_sizes': [(50,), (100,), (50, 50)]}),\n",
    "    ('XGBoost', XGBClassifier(), {'n_estimators': [100, 200, 300], 'max_depth': [3, 5, 7]})\n",
    "]\n",
    "\n",
    "# Создание пустого DataFrame для хранения результатов\n",
    "results_df_params = pd.DataFrame(columns=['Model', 'Accuracy', 'Precision', 'Recall', 'F1 Score', 'ROC AUC', 'MCC', 'TP', 'TN', 'FP', 'FN'])\n",
    "\n",
    "# Обучение и оценка каждого классификатора с использованием GridSearchCV\n",
    "for name, clf, param_grid in classifiers:\n",
    "    grid_search = GridSearchCV(clf, param_grid=param_grid, cv=5)\n",
    "    grid_search.fit(X_train, y_train)\n",
    "    clf = grid_search.best_estimator_\n",
    "    \n",
    "    y_pred = clf.predict(X_test)\n",
    "    \n",
    "    # Расчет метрик\n",
    "    accuracy = accuracy_score(y_test, y_pred)\n",
    "    precision = precision_score(y_test, y_pred)\n",
    "    recall = recall_score(y_test, y_pred)\n",
    "    f1 = f1_score(y_test, y_pred)\n",
    "\n",
    "    # Получение значений из матрицы ошибок\n",
    "    tn, fp, fn, tp = confusion_matrix(y_test, y_pred).ravel()\n",
    "    mcc = matthews_corrcoef(y_test, y_pred)\n",
    "    \n",
    "    # Расчет ROC AUC только если доступен predict_proba\n",
    "    if hasattr(clf, \"predict_proba\"):\n",
    "        roc_auc = roc_auc_score(y_test, clf.predict_proba(X_test)[:, 1])\n",
    "    else:\n",
    "        roc_auc = None\n",
    "    \n",
    "    # Добавление результатов в DataFrame с использованием loc\n",
    "    results_df_params.loc[len(results_df_params)] = {\n",
    "        'Model': name,\n",
    "        'Accuracy': accuracy,\n",
    "        'Precision': precision,\n",
    "        'Recall': recall,\n",
    "        'F1 Score': f1,\n",
    "        'ROC AUC': roc_auc,\n",
    "        'MCC': mcc,\n",
    "        'TP': tp,\n",
    "        'TN': tn,\n",
    "        'FP': fp,\n",
    "        'FN': fn,\n",
    "    }\n",
    "\n",
    "# Отображение DataFrame с результатами\n",
    "results_df_params\n"
   ]
  },
  {
   "cell_type": "markdown",
   "id": "99644dfa",
   "metadata": {},
   "source": [
    "### NB\n",
    "Данные не сбалансированы, поэтому необходимо искусственно увеличить данные для категории \"stroke\". И поскольку, согласно статистике, соотношение людей с инсультом и здоровых людей составляет 1 к 4, мы применим \"SMOTE\" к нашим данным."
   ]
  },
  {
   "cell_type": "code",
   "execution_count": 338,
   "id": "7c8a253a",
   "metadata": {
    "scrolled": true
   },
   "outputs": [
    {
     "name": "stderr",
     "output_type": "stream",
     "text": [
      "C:\\Users\\Oleg\\AppData\\Local\\Temp\\ipykernel_11144\\2187272644.py:2: FutureWarning: Series.ravel is deprecated. The underlying array is already 1D, so ravel is not necessary.  Use `to_numpy()` for conversion to a numpy array instead.\n",
      "  X_train_smote, y_train_smote = sm.fit_resample(X_train, y_train.ravel())\n"
     ]
    }
   ],
   "source": [
    "sm = SMOTE(sampling_strategy=0.25)\n",
    "X_train_smote, y_train_smote = sm.fit_resample(X_train, y_train.ravel())"
   ]
  },
  {
   "cell_type": "code",
   "execution_count": 339,
   "id": "e632e881",
   "metadata": {},
   "outputs": [
    {
     "data": {
      "text/plain": [
       "(4862, 9)"
      ]
     },
     "execution_count": 339,
     "metadata": {},
     "output_type": "execute_result"
    }
   ],
   "source": [
    "X_train_smote.shape"
   ]
  },
  {
   "cell_type": "code",
   "execution_count": 340,
   "id": "30b973fb",
   "metadata": {},
   "outputs": [
    {
     "data": {
      "text/plain": [
       "(4862,)"
      ]
     },
     "execution_count": 340,
     "metadata": {},
     "output_type": "execute_result"
    }
   ],
   "source": [
    "y_train_smote.shape"
   ]
  },
  {
   "cell_type": "code",
   "execution_count": null,
   "id": "1169ce69",
   "metadata": {
    "scrolled": true
   },
   "outputs": [
    {
     "name": "stderr",
     "output_type": "stream",
     "text": [
      "c:\\Users\\Oleg\\anaconda3\\Lib\\site-packages\\sklearn\\metrics\\_classification.py:1531: UndefinedMetricWarning: Precision is ill-defined and being set to 0.0 due to no predicted samples. Use `zero_division` parameter to control this behavior.\n",
      "  _warn_prf(average, modifier, f\"{metric.capitalize()} is\", len(result))\n"
     ]
    },
    {
     "data": {
      "text/html": [
       "<div>\n",
       "<style scoped>\n",
       "    .dataframe tbody tr th:only-of-type {\n",
       "        vertical-align: middle;\n",
       "    }\n",
       "\n",
       "    .dataframe tbody tr th {\n",
       "        vertical-align: top;\n",
       "    }\n",
       "\n",
       "    .dataframe thead th {\n",
       "        text-align: right;\n",
       "    }\n",
       "</style>\n",
       "<table border=\"1\" class=\"dataframe\">\n",
       "  <thead>\n",
       "    <tr style=\"text-align: right;\">\n",
       "      <th></th>\n",
       "      <th>Model</th>\n",
       "      <th>Accuracy</th>\n",
       "      <th>Precision</th>\n",
       "      <th>Recall</th>\n",
       "      <th>F1 Score</th>\n",
       "      <th>ROC AUC</th>\n",
       "      <th>MCC</th>\n",
       "      <th>TP</th>\n",
       "      <th>TN</th>\n",
       "      <th>FP</th>\n",
       "      <th>FN</th>\n",
       "    </tr>\n",
       "  </thead>\n",
       "  <tbody>\n",
       "    <tr>\n",
       "      <th>0</th>\n",
       "      <td>Logistic Regression</td>\n",
       "      <td>0.905088</td>\n",
       "      <td>0.197368</td>\n",
       "      <td>0.294118</td>\n",
       "      <td>0.236220</td>\n",
       "      <td>0.815664</td>\n",
       "      <td>0.191960</td>\n",
       "      <td>15</td>\n",
       "      <td>910</td>\n",
       "      <td>61</td>\n",
       "      <td>36</td>\n",
       "    </tr>\n",
       "    <tr>\n",
       "      <th>1</th>\n",
       "      <td>Decision Tree</td>\n",
       "      <td>0.892368</td>\n",
       "      <td>0.135802</td>\n",
       "      <td>0.215686</td>\n",
       "      <td>0.166667</td>\n",
       "      <td>0.587357</td>\n",
       "      <td>0.115744</td>\n",
       "      <td>11</td>\n",
       "      <td>901</td>\n",
       "      <td>70</td>\n",
       "      <td>40</td>\n",
       "    </tr>\n",
       "    <tr>\n",
       "      <th>2</th>\n",
       "      <td>Random Forest</td>\n",
       "      <td>0.909002</td>\n",
       "      <td>0.080000</td>\n",
       "      <td>0.078431</td>\n",
       "      <td>0.079208</td>\n",
       "      <td>0.766503</td>\n",
       "      <td>0.031350</td>\n",
       "      <td>4</td>\n",
       "      <td>925</td>\n",
       "      <td>46</td>\n",
       "      <td>47</td>\n",
       "    </tr>\n",
       "    <tr>\n",
       "      <th>3</th>\n",
       "      <td>Support Vector Machine</td>\n",
       "      <td>0.950098</td>\n",
       "      <td>0.000000</td>\n",
       "      <td>0.000000</td>\n",
       "      <td>0.000000</td>\n",
       "      <td>0.762878</td>\n",
       "      <td>0.000000</td>\n",
       "      <td>0</td>\n",
       "      <td>971</td>\n",
       "      <td>0</td>\n",
       "      <td>51</td>\n",
       "    </tr>\n",
       "    <tr>\n",
       "      <th>4</th>\n",
       "      <td>K-Nearest Neighbors</td>\n",
       "      <td>0.892368</td>\n",
       "      <td>0.135802</td>\n",
       "      <td>0.215686</td>\n",
       "      <td>0.166667</td>\n",
       "      <td>0.663193</td>\n",
       "      <td>0.115744</td>\n",
       "      <td>11</td>\n",
       "      <td>901</td>\n",
       "      <td>70</td>\n",
       "      <td>40</td>\n",
       "    </tr>\n",
       "    <tr>\n",
       "      <th>5</th>\n",
       "      <td>Naive Bayes</td>\n",
       "      <td>0.846380</td>\n",
       "      <td>0.131944</td>\n",
       "      <td>0.372549</td>\n",
       "      <td>0.194872</td>\n",
       "      <td>0.811100</td>\n",
       "      <td>0.152591</td>\n",
       "      <td>19</td>\n",
       "      <td>846</td>\n",
       "      <td>125</td>\n",
       "      <td>32</td>\n",
       "    </tr>\n",
       "    <tr>\n",
       "      <th>6</th>\n",
       "      <td>Neural Network</td>\n",
       "      <td>0.900196</td>\n",
       "      <td>0.200000</td>\n",
       "      <td>0.333333</td>\n",
       "      <td>0.250000</td>\n",
       "      <td>0.796713</td>\n",
       "      <td>0.207621</td>\n",
       "      <td>17</td>\n",
       "      <td>903</td>\n",
       "      <td>68</td>\n",
       "      <td>34</td>\n",
       "    </tr>\n",
       "    <tr>\n",
       "      <th>7</th>\n",
       "      <td>XGBoost</td>\n",
       "      <td>0.898239</td>\n",
       "      <td>0.115942</td>\n",
       "      <td>0.156863</td>\n",
       "      <td>0.133333</td>\n",
       "      <td>0.767654</td>\n",
       "      <td>0.081609</td>\n",
       "      <td>8</td>\n",
       "      <td>910</td>\n",
       "      <td>61</td>\n",
       "      <td>43</td>\n",
       "    </tr>\n",
       "  </tbody>\n",
       "</table>\n",
       "</div>"
      ],
      "text/plain": [
       "                    Model  Accuracy  Precision    Recall  F1 Score   ROC AUC  \\\n",
       "0     Logistic Regression  0.905088   0.197368  0.294118  0.236220  0.815664   \n",
       "1           Decision Tree  0.892368   0.135802  0.215686  0.166667  0.587357   \n",
       "2           Random Forest  0.909002   0.080000  0.078431  0.079208  0.766503   \n",
       "3  Support Vector Machine  0.950098   0.000000  0.000000  0.000000  0.762878   \n",
       "4     K-Nearest Neighbors  0.892368   0.135802  0.215686  0.166667  0.663193   \n",
       "5             Naive Bayes  0.846380   0.131944  0.372549  0.194872  0.811100   \n",
       "6          Neural Network  0.900196   0.200000  0.333333  0.250000  0.796713   \n",
       "7                 XGBoost  0.898239   0.115942  0.156863  0.133333  0.767654   \n",
       "\n",
       "        MCC  TP   TN   FP  FN  \n",
       "0  0.191960  15  910   61  36  \n",
       "1  0.115744  11  901   70  40  \n",
       "2  0.031350   4  925   46  47  \n",
       "3  0.000000   0  971    0  51  \n",
       "4  0.115744  11  901   70  40  \n",
       "5  0.152591  19  846  125  32  \n",
       "6  0.207621  17  903   68  34  \n",
       "7  0.081609   8  910   61  43  "
      ]
     },
     "execution_count": 341,
     "metadata": {},
     "output_type": "execute_result"
    }
   ],
   "source": [
    "# Создание списка классификаторов\n",
    "classifiers = [\n",
    "    ('Logistic Regression', LogisticRegression(max_iter=1000)),\n",
    "    ('Decision Tree', DecisionTreeClassifier()),\n",
    "    ('Random Forest', RandomForestClassifier()),\n",
    "    ('Support Vector Machine', SVC(probability=True)),  \n",
    "    ('K-Nearest Neighbors', KNeighborsClassifier()),\n",
    "    ('Naive Bayes', GaussianNB()),\n",
    "    ('Neural Network', MLPClassifier(max_iter=1000)),\n",
    "    ('XGBoost', XGBClassifier())\n",
    "]\n",
    "\n",
    "# Создание пустого DataFrame для хранения результатов\n",
    "results_df_smote = pd.DataFrame(columns=['Model', 'Accuracy', 'Precision', 'Recall', 'F1 Score', 'ROC AUC', 'MCC', 'TP', 'TN', 'FP', 'FN'])\n",
    "\n",
    "# Обучение и оценка каждого классификатора\n",
    "for name, clf in classifiers:\n",
    "    clf.fit(X_train_smote, y_train_smote)\n",
    "    y_pred = clf.predict(X_test)\n",
    "    \n",
    "    # Расчет метрик\n",
    "    accuracy = accuracy_score(y_test, y_pred)\n",
    "    precision = precision_score(y_test, y_pred)\n",
    "    recall = recall_score(y_test, y_pred)\n",
    "    f1 = f1_score(y_test, y_pred)\n",
    "    \n",
    "    # Получение значений из матрицы ошибок\n",
    "    tn, fp, fn, tp = confusion_matrix(y_test, y_pred).ravel()\n",
    "    \n",
    "    # Расчет коэффициента корреляции Мэтьюса\n",
    "    mcc = matthews_corrcoef(y_test, y_pred)\n",
    "\n",
    "    # Расчет ROC AUC только если доступен predict_proba\n",
    "    if hasattr(clf, \"predict_proba\"):\n",
    "        roc_auc = roc_auc_score(y_test, clf.predict_proba(X_test)[:, 1])\n",
    "    else:\n",
    "        roc_auc = None\n",
    "    \n",
    "    # Добавление результатов в DataFrame с использованием loc\n",
    "    results_df_smote.loc[len(results_df_smote)] = {\n",
    "        'Model': name,\n",
    "        'Accuracy': accuracy,\n",
    "        'Precision': precision,\n",
    "        'Recall': recall,\n",
    "        'F1 Score': f1,\n",
    "        'ROC AUC': roc_auc,\n",
    "        'MCC': mcc,\n",
    "        'TP': tp,\n",
    "        'TN': tn,\n",
    "        'FP': fp,\n",
    "        'FN': fn,\n",
    "    }\n",
    "\n",
    "results_df_smote\n"
   ]
  },
  {
   "cell_type": "code",
   "execution_count": null,
   "id": "3f41108a",
   "metadata": {},
   "outputs": [
    {
     "data": {
      "text/html": [
       "<div>\n",
       "<style scoped>\n",
       "    .dataframe tbody tr th:only-of-type {\n",
       "        vertical-align: middle;\n",
       "    }\n",
       "\n",
       "    .dataframe tbody tr th {\n",
       "        vertical-align: top;\n",
       "    }\n",
       "\n",
       "    .dataframe thead th {\n",
       "        text-align: right;\n",
       "    }\n",
       "</style>\n",
       "<table border=\"1\" class=\"dataframe\">\n",
       "  <thead>\n",
       "    <tr style=\"text-align: right;\">\n",
       "      <th></th>\n",
       "      <th>Model</th>\n",
       "      <th>Accuracy</th>\n",
       "      <th>Precision</th>\n",
       "      <th>Recall</th>\n",
       "      <th>F1 Score</th>\n",
       "      <th>ROC AUC</th>\n",
       "      <th>MCC</th>\n",
       "      <th>TP</th>\n",
       "      <th>TN</th>\n",
       "      <th>FP</th>\n",
       "      <th>FN</th>\n",
       "    </tr>\n",
       "  </thead>\n",
       "  <tbody>\n",
       "    <tr>\n",
       "      <th>0</th>\n",
       "      <td>Logistic Regression</td>\n",
       "      <td>0.905088</td>\n",
       "      <td>0.197368</td>\n",
       "      <td>0.294118</td>\n",
       "      <td>0.236220</td>\n",
       "      <td>0.815664</td>\n",
       "      <td>0.191960</td>\n",
       "      <td>15</td>\n",
       "      <td>910</td>\n",
       "      <td>61</td>\n",
       "      <td>36</td>\n",
       "    </tr>\n",
       "    <tr>\n",
       "      <th>1</th>\n",
       "      <td>Decision Tree</td>\n",
       "      <td>0.897260</td>\n",
       "      <td>0.125000</td>\n",
       "      <td>0.176471</td>\n",
       "      <td>0.146341</td>\n",
       "      <td>0.561964</td>\n",
       "      <td>0.094949</td>\n",
       "      <td>9</td>\n",
       "      <td>908</td>\n",
       "      <td>63</td>\n",
       "      <td>42</td>\n",
       "    </tr>\n",
       "    <tr>\n",
       "      <th>2</th>\n",
       "      <td>Random Forest</td>\n",
       "      <td>0.906067</td>\n",
       "      <td>0.090909</td>\n",
       "      <td>0.098039</td>\n",
       "      <td>0.094340</td>\n",
       "      <td>0.767058</td>\n",
       "      <td>0.044914</td>\n",
       "      <td>5</td>\n",
       "      <td>921</td>\n",
       "      <td>50</td>\n",
       "      <td>46</td>\n",
       "    </tr>\n",
       "    <tr>\n",
       "      <th>3</th>\n",
       "      <td>Support Vector Machine</td>\n",
       "      <td>0.909002</td>\n",
       "      <td>0.208333</td>\n",
       "      <td>0.294118</td>\n",
       "      <td>0.243902</td>\n",
       "      <td>0.723622</td>\n",
       "      <td>0.200309</td>\n",
       "      <td>15</td>\n",
       "      <td>914</td>\n",
       "      <td>57</td>\n",
       "      <td>36</td>\n",
       "    </tr>\n",
       "    <tr>\n",
       "      <th>4</th>\n",
       "      <td>K-Nearest Neighbors</td>\n",
       "      <td>0.893346</td>\n",
       "      <td>0.118421</td>\n",
       "      <td>0.176471</td>\n",
       "      <td>0.141732</td>\n",
       "      <td>0.657216</td>\n",
       "      <td>0.089192</td>\n",
       "      <td>9</td>\n",
       "      <td>904</td>\n",
       "      <td>67</td>\n",
       "      <td>42</td>\n",
       "    </tr>\n",
       "    <tr>\n",
       "      <th>5</th>\n",
       "      <td>Naive Bayes</td>\n",
       "      <td>0.846380</td>\n",
       "      <td>0.131944</td>\n",
       "      <td>0.372549</td>\n",
       "      <td>0.194872</td>\n",
       "      <td>0.811100</td>\n",
       "      <td>0.152591</td>\n",
       "      <td>19</td>\n",
       "      <td>846</td>\n",
       "      <td>125</td>\n",
       "      <td>32</td>\n",
       "    </tr>\n",
       "    <tr>\n",
       "      <th>6</th>\n",
       "      <td>Neural Network</td>\n",
       "      <td>0.892368</td>\n",
       "      <td>0.182796</td>\n",
       "      <td>0.333333</td>\n",
       "      <td>0.236111</td>\n",
       "      <td>0.800024</td>\n",
       "      <td>0.193105</td>\n",
       "      <td>17</td>\n",
       "      <td>895</td>\n",
       "      <td>76</td>\n",
       "      <td>34</td>\n",
       "    </tr>\n",
       "    <tr>\n",
       "      <th>7</th>\n",
       "      <td>XGBoost</td>\n",
       "      <td>0.897260</td>\n",
       "      <td>0.064516</td>\n",
       "      <td>0.078431</td>\n",
       "      <td>0.070796</td>\n",
       "      <td>0.728782</td>\n",
       "      <td>0.017056</td>\n",
       "      <td>4</td>\n",
       "      <td>913</td>\n",
       "      <td>58</td>\n",
       "      <td>47</td>\n",
       "    </tr>\n",
       "  </tbody>\n",
       "</table>\n",
       "</div>"
      ],
      "text/plain": [
       "                    Model  Accuracy  Precision    Recall  F1 Score   ROC AUC  \\\n",
       "0     Logistic Regression  0.905088   0.197368  0.294118  0.236220  0.815664   \n",
       "1           Decision Tree  0.897260   0.125000  0.176471  0.146341  0.561964   \n",
       "2           Random Forest  0.906067   0.090909  0.098039  0.094340  0.767058   \n",
       "3  Support Vector Machine  0.909002   0.208333  0.294118  0.243902  0.723622   \n",
       "4     K-Nearest Neighbors  0.893346   0.118421  0.176471  0.141732  0.657216   \n",
       "5             Naive Bayes  0.846380   0.131944  0.372549  0.194872  0.811100   \n",
       "6          Neural Network  0.892368   0.182796  0.333333  0.236111  0.800024   \n",
       "7                 XGBoost  0.897260   0.064516  0.078431  0.070796  0.728782   \n",
       "\n",
       "        MCC  TP   TN   FP  FN  \n",
       "0  0.191960  15  910   61  36  \n",
       "1  0.094949   9  908   63  42  \n",
       "2  0.044914   5  921   50  46  \n",
       "3  0.200309  15  914   57  36  \n",
       "4  0.089192   9  904   67  42  \n",
       "5  0.152591  19  846  125  32  \n",
       "6  0.193105  17  895   76  34  \n",
       "7  0.017056   4  913   58  47  "
      ]
     },
     "execution_count": 348,
     "metadata": {},
     "output_type": "execute_result"
    }
   ],
   "source": [
    "# Создание списка классификаторов с сетками гиперпараметров\n",
    "classifiers = [\n",
    "    ('Logistic Regression', LogisticRegression(max_iter=1000), {'C': [0.001, 0.01, 0.1, 1, 10]}),\n",
    "    ('Decision Tree', DecisionTreeClassifier(), {'max_depth': [None, 10, 20, 30]}),\n",
    "    ('Random Forest', RandomForestClassifier(), {'n_estimators': [100, 200, 300], 'max_depth': [None, 10, 20, 30]}),\n",
    "    ('Support Vector Machine', SVC(probability=True), {'C': [0.001, 0.01, 0.1, 1, 10]}),\n",
    "    ('K-Nearest Neighbors', KNeighborsClassifier(), {'n_neighbors': [3, 5, 7]}),\n",
    "    ('Naive Bayes', GaussianNB(), {}),\n",
    "    ('Neural Network', MLPClassifier(max_iter=1000), {'hidden_layer_sizes': [(50,), (100,), (50, 50)]}),\n",
    "    ('XGBoost', XGBClassifier(), {'n_estimators': [100, 200, 300], 'max_depth': [3, 5, 7]})\n",
    "]\n",
    "\n",
    "# Создание пустого DataFrame для хранения результатов\n",
    "results_df_smote_params = pd.DataFrame(columns=['Model', 'Accuracy', 'Precision', 'Recall', 'F1 Score', 'ROC AUC', 'MCC', 'TP', 'TN', 'FP', 'FN'])\n",
    "\n",
    "# Обучение и оценка каждого классификатора с использованием GridSearchCV и SMOTE\n",
    "for name, clf, param_grid in classifiers:\n",
    "    grid_search = GridSearchCV(clf, param_grid=param_grid, cv=5)\n",
    "    grid_search.fit(X_train_smote, y_train_smote)\n",
    "    clf = grid_search.best_estimator_\n",
    "    \n",
    "    y_pred = clf.predict(X_test)\n",
    "    \n",
    "    # Расчет метрик\n",
    "    accuracy = accuracy_score(y_test, y_pred)\n",
    "    precision = precision_score(y_test, y_pred)\n",
    "    recall = recall_score(y_test, y_pred)\n",
    "    f1 = f1_score(y_test, y_pred)\n",
    "    tn, fp, fn, tp = confusion_matrix(y_test, y_pred).ravel()\n",
    "    mcc = matthews_corrcoef(y_test, y_pred)\n",
    "    \n",
    "    # Расчет ROC AUC только если доступен predict_proba\n",
    "    if hasattr(clf, \"predict_proba\"):\n",
    "        roc_auc = roc_auc_score(y_test, clf.predict_proba(X_test)[:, 1])\n",
    "    else:\n",
    "        roc_auc = None\n",
    "    \n",
    "    # Добавление результатов в DataFrame с использованием loc\n",
    "    results_df_smote_params.loc[len(results_df_smote_params)] = {\n",
    "        'Model': name,\n",
    "        'Accuracy': accuracy,\n",
    "        'Precision': precision,\n",
    "        'Recall': recall,\n",
    "        'F1 Score': f1,\n",
    "        'ROC AUC': roc_auc,\n",
    "        'MCC': mcc,\n",
    "        'TP': tp,\n",
    "        'TN': tn,\n",
    "        'FP': fp,\n",
    "        'FN': fn,\n",
    "    }\n",
    "\n",
    "results_df_smote_params"
   ]
  },
  {
   "cell_type": "markdown",
   "id": "dfc47adb",
   "metadata": {},
   "source": [
    "# 6. Results interpretation"
   ]
  },
  {
   "cell_type": "code",
   "execution_count": 342,
   "id": "874d7a89",
   "metadata": {
    "scrolled": false
   },
   "outputs": [
    {
     "data": {
      "text/html": [
       "<div>\n",
       "<style scoped>\n",
       "    .dataframe tbody tr th:only-of-type {\n",
       "        vertical-align: middle;\n",
       "    }\n",
       "\n",
       "    .dataframe tbody tr th {\n",
       "        vertical-align: top;\n",
       "    }\n",
       "\n",
       "    .dataframe thead th {\n",
       "        text-align: right;\n",
       "    }\n",
       "</style>\n",
       "<table border=\"1\" class=\"dataframe\">\n",
       "  <thead>\n",
       "    <tr style=\"text-align: right;\">\n",
       "      <th></th>\n",
       "      <th>Model</th>\n",
       "      <th>Accuracy</th>\n",
       "      <th>Precision</th>\n",
       "      <th>Recall</th>\n",
       "      <th>F1 Score</th>\n",
       "      <th>ROC AUC</th>\n",
       "      <th>MCC</th>\n",
       "      <th>TP</th>\n",
       "      <th>TN</th>\n",
       "      <th>FP</th>\n",
       "      <th>FN</th>\n",
       "    </tr>\n",
       "  </thead>\n",
       "  <tbody>\n",
       "    <tr>\n",
       "      <th>0</th>\n",
       "      <td>Logistic Regression</td>\n",
       "      <td>0.950098</td>\n",
       "      <td>0.000000</td>\n",
       "      <td>0.000000</td>\n",
       "      <td>0.000000</td>\n",
       "      <td>0.839876</td>\n",
       "      <td>0.000000</td>\n",
       "      <td>0</td>\n",
       "      <td>971</td>\n",
       "      <td>0</td>\n",
       "      <td>51</td>\n",
       "    </tr>\n",
       "    <tr>\n",
       "      <th>1</th>\n",
       "      <td>Decision Tree</td>\n",
       "      <td>0.905088</td>\n",
       "      <td>0.074074</td>\n",
       "      <td>0.078431</td>\n",
       "      <td>0.076190</td>\n",
       "      <td>0.538125</td>\n",
       "      <td>0.026220</td>\n",
       "      <td>4</td>\n",
       "      <td>921</td>\n",
       "      <td>50</td>\n",
       "      <td>47</td>\n",
       "    </tr>\n",
       "    <tr>\n",
       "      <th>2</th>\n",
       "      <td>Random Forest</td>\n",
       "      <td>0.926614</td>\n",
       "      <td>0.000000</td>\n",
       "      <td>0.000000</td>\n",
       "      <td>0.000000</td>\n",
       "      <td>0.726207</td>\n",
       "      <td>-0.035540</td>\n",
       "      <td>0</td>\n",
       "      <td>947</td>\n",
       "      <td>24</td>\n",
       "      <td>51</td>\n",
       "    </tr>\n",
       "    <tr>\n",
       "      <th>3</th>\n",
       "      <td>Support Vector Machine</td>\n",
       "      <td>0.950098</td>\n",
       "      <td>0.000000</td>\n",
       "      <td>0.000000</td>\n",
       "      <td>0.000000</td>\n",
       "      <td>0.421104</td>\n",
       "      <td>0.000000</td>\n",
       "      <td>0</td>\n",
       "      <td>971</td>\n",
       "      <td>0</td>\n",
       "      <td>51</td>\n",
       "    </tr>\n",
       "    <tr>\n",
       "      <th>4</th>\n",
       "      <td>K-Nearest Neighbors</td>\n",
       "      <td>0.945205</td>\n",
       "      <td>0.142857</td>\n",
       "      <td>0.019608</td>\n",
       "      <td>0.034483</td>\n",
       "      <td>0.649320</td>\n",
       "      <td>0.035452</td>\n",
       "      <td>1</td>\n",
       "      <td>965</td>\n",
       "      <td>6</td>\n",
       "      <td>50</td>\n",
       "    </tr>\n",
       "    <tr>\n",
       "      <th>5</th>\n",
       "      <td>Naive Bayes</td>\n",
       "      <td>0.876712</td>\n",
       "      <td>0.142857</td>\n",
       "      <td>0.294118</td>\n",
       "      <td>0.192308</td>\n",
       "      <td>0.811827</td>\n",
       "      <td>0.144457</td>\n",
       "      <td>15</td>\n",
       "      <td>881</td>\n",
       "      <td>90</td>\n",
       "      <td>36</td>\n",
       "    </tr>\n",
       "    <tr>\n",
       "      <th>6</th>\n",
       "      <td>Neural Network</td>\n",
       "      <td>0.950098</td>\n",
       "      <td>0.000000</td>\n",
       "      <td>0.000000</td>\n",
       "      <td>0.000000</td>\n",
       "      <td>0.821924</td>\n",
       "      <td>0.000000</td>\n",
       "      <td>0</td>\n",
       "      <td>971</td>\n",
       "      <td>0</td>\n",
       "      <td>51</td>\n",
       "    </tr>\n",
       "    <tr>\n",
       "      <th>7</th>\n",
       "      <td>XGBoost</td>\n",
       "      <td>0.932485</td>\n",
       "      <td>0.000000</td>\n",
       "      <td>0.000000</td>\n",
       "      <td>0.000000</td>\n",
       "      <td>0.769815</td>\n",
       "      <td>-0.030686</td>\n",
       "      <td>0</td>\n",
       "      <td>953</td>\n",
       "      <td>18</td>\n",
       "      <td>51</td>\n",
       "    </tr>\n",
       "  </tbody>\n",
       "</table>\n",
       "</div>"
      ],
      "text/plain": [
       "                    Model  Accuracy  Precision    Recall  F1 Score   ROC AUC  \\\n",
       "0     Logistic Regression  0.950098   0.000000  0.000000  0.000000  0.839876   \n",
       "1           Decision Tree  0.905088   0.074074  0.078431  0.076190  0.538125   \n",
       "2           Random Forest  0.926614   0.000000  0.000000  0.000000  0.726207   \n",
       "3  Support Vector Machine  0.950098   0.000000  0.000000  0.000000  0.421104   \n",
       "4     K-Nearest Neighbors  0.945205   0.142857  0.019608  0.034483  0.649320   \n",
       "5             Naive Bayes  0.876712   0.142857  0.294118  0.192308  0.811827   \n",
       "6          Neural Network  0.950098   0.000000  0.000000  0.000000  0.821924   \n",
       "7                 XGBoost  0.932485   0.000000  0.000000  0.000000  0.769815   \n",
       "\n",
       "        MCC  TP   TN  FP  FN  \n",
       "0  0.000000   0  971   0  51  \n",
       "1  0.026220   4  921  50  47  \n",
       "2 -0.035540   0  947  24  51  \n",
       "3  0.000000   0  971   0  51  \n",
       "4  0.035452   1  965   6  50  \n",
       "5  0.144457  15  881  90  36  \n",
       "6  0.000000   0  971   0  51  \n",
       "7 -0.030686   0  953  18  51  "
      ]
     },
     "execution_count": 342,
     "metadata": {},
     "output_type": "execute_result"
    }
   ],
   "source": [
    "results_df"
   ]
  },
  {
   "cell_type": "markdown",
   "id": "9df29165",
   "metadata": {},
   "source": [
    "### Оценка базового прогнозирования\n",
    "Если исходить из того, что модель в целом должна хорошо определять как здоровых людей, так и людей с инсультом, то Naive Bayes выделяется среди других. У него лучший коэффициент MCC и F1 Score, хотя и низкая точность."
   ]
  },
  {
   "cell_type": "code",
   "execution_count": 344,
   "id": "ecfbaf7f",
   "metadata": {},
   "outputs": [
    {
     "data": {
      "text/html": [
       "<div>\n",
       "<style scoped>\n",
       "    .dataframe tbody tr th:only-of-type {\n",
       "        vertical-align: middle;\n",
       "    }\n",
       "\n",
       "    .dataframe tbody tr th {\n",
       "        vertical-align: top;\n",
       "    }\n",
       "\n",
       "    .dataframe thead th {\n",
       "        text-align: right;\n",
       "    }\n",
       "</style>\n",
       "<table border=\"1\" class=\"dataframe\">\n",
       "  <thead>\n",
       "    <tr style=\"text-align: right;\">\n",
       "      <th></th>\n",
       "      <th>Model</th>\n",
       "      <th>Accuracy</th>\n",
       "      <th>Precision</th>\n",
       "      <th>Recall</th>\n",
       "      <th>F1 Score</th>\n",
       "      <th>ROC AUC</th>\n",
       "      <th>MCC</th>\n",
       "      <th>TP</th>\n",
       "      <th>TN</th>\n",
       "      <th>FP</th>\n",
       "      <th>FN</th>\n",
       "    </tr>\n",
       "  </thead>\n",
       "  <tbody>\n",
       "    <tr>\n",
       "      <th>0</th>\n",
       "      <td>Logistic Regression</td>\n",
       "      <td>0.950098</td>\n",
       "      <td>0.000000</td>\n",
       "      <td>0.000000</td>\n",
       "      <td>0.000000</td>\n",
       "      <td>0.831698</td>\n",
       "      <td>0.000000</td>\n",
       "      <td>0</td>\n",
       "      <td>971</td>\n",
       "      <td>0</td>\n",
       "      <td>51</td>\n",
       "    </tr>\n",
       "    <tr>\n",
       "      <th>1</th>\n",
       "      <td>Decision Tree</td>\n",
       "      <td>0.924658</td>\n",
       "      <td>0.093750</td>\n",
       "      <td>0.058824</td>\n",
       "      <td>0.072289</td>\n",
       "      <td>0.610650</td>\n",
       "      <td>0.036204</td>\n",
       "      <td>3</td>\n",
       "      <td>942</td>\n",
       "      <td>29</td>\n",
       "      <td>48</td>\n",
       "    </tr>\n",
       "    <tr>\n",
       "      <th>2</th>\n",
       "      <td>Random Forest</td>\n",
       "      <td>0.945205</td>\n",
       "      <td>0.000000</td>\n",
       "      <td>0.000000</td>\n",
       "      <td>0.000000</td>\n",
       "      <td>0.786596</td>\n",
       "      <td>-0.016069</td>\n",
       "      <td>0</td>\n",
       "      <td>966</td>\n",
       "      <td>5</td>\n",
       "      <td>51</td>\n",
       "    </tr>\n",
       "    <tr>\n",
       "      <th>3</th>\n",
       "      <td>Support Vector Machine</td>\n",
       "      <td>0.950098</td>\n",
       "      <td>0.000000</td>\n",
       "      <td>0.000000</td>\n",
       "      <td>0.000000</td>\n",
       "      <td>0.426839</td>\n",
       "      <td>0.000000</td>\n",
       "      <td>0</td>\n",
       "      <td>971</td>\n",
       "      <td>0</td>\n",
       "      <td>51</td>\n",
       "    </tr>\n",
       "    <tr>\n",
       "      <th>4</th>\n",
       "      <td>K-Nearest Neighbors</td>\n",
       "      <td>0.949119</td>\n",
       "      <td>0.333333</td>\n",
       "      <td>0.019608</td>\n",
       "      <td>0.037037</td>\n",
       "      <td>0.693938</td>\n",
       "      <td>0.070628</td>\n",
       "      <td>1</td>\n",
       "      <td>969</td>\n",
       "      <td>2</td>\n",
       "      <td>50</td>\n",
       "    </tr>\n",
       "    <tr>\n",
       "      <th>5</th>\n",
       "      <td>Naive Bayes</td>\n",
       "      <td>0.876712</td>\n",
       "      <td>0.142857</td>\n",
       "      <td>0.294118</td>\n",
       "      <td>0.192308</td>\n",
       "      <td>0.811827</td>\n",
       "      <td>0.144457</td>\n",
       "      <td>15</td>\n",
       "      <td>881</td>\n",
       "      <td>90</td>\n",
       "      <td>36</td>\n",
       "    </tr>\n",
       "    <tr>\n",
       "      <th>6</th>\n",
       "      <td>Neural Network</td>\n",
       "      <td>0.950098</td>\n",
       "      <td>0.000000</td>\n",
       "      <td>0.000000</td>\n",
       "      <td>0.000000</td>\n",
       "      <td>0.824983</td>\n",
       "      <td>0.000000</td>\n",
       "      <td>0</td>\n",
       "      <td>971</td>\n",
       "      <td>0</td>\n",
       "      <td>51</td>\n",
       "    </tr>\n",
       "    <tr>\n",
       "      <th>7</th>\n",
       "      <td>XGBoost</td>\n",
       "      <td>0.945205</td>\n",
       "      <td>0.000000</td>\n",
       "      <td>0.000000</td>\n",
       "      <td>0.000000</td>\n",
       "      <td>0.830961</td>\n",
       "      <td>-0.016069</td>\n",
       "      <td>0</td>\n",
       "      <td>966</td>\n",
       "      <td>5</td>\n",
       "      <td>51</td>\n",
       "    </tr>\n",
       "  </tbody>\n",
       "</table>\n",
       "</div>"
      ],
      "text/plain": [
       "                    Model  Accuracy  Precision    Recall  F1 Score   ROC AUC  \\\n",
       "0     Logistic Regression  0.950098   0.000000  0.000000  0.000000  0.831698   \n",
       "1           Decision Tree  0.924658   0.093750  0.058824  0.072289  0.610650   \n",
       "2           Random Forest  0.945205   0.000000  0.000000  0.000000  0.786596   \n",
       "3  Support Vector Machine  0.950098   0.000000  0.000000  0.000000  0.426839   \n",
       "4     K-Nearest Neighbors  0.949119   0.333333  0.019608  0.037037  0.693938   \n",
       "5             Naive Bayes  0.876712   0.142857  0.294118  0.192308  0.811827   \n",
       "6          Neural Network  0.950098   0.000000  0.000000  0.000000  0.824983   \n",
       "7                 XGBoost  0.945205   0.000000  0.000000  0.000000  0.830961   \n",
       "\n",
       "        MCC  TP   TN  FP  FN  \n",
       "0  0.000000   0  971   0  51  \n",
       "1  0.036204   3  942  29  48  \n",
       "2 -0.016069   0  966   5  51  \n",
       "3  0.000000   0  971   0  51  \n",
       "4  0.070628   1  969   2  50  \n",
       "5  0.144457  15  881  90  36  \n",
       "6  0.000000   0  971   0  51  \n",
       "7 -0.016069   0  966   5  51  "
      ]
     },
     "execution_count": 344,
     "metadata": {},
     "output_type": "execute_result"
    }
   ],
   "source": [
    "results_df_params"
   ]
  },
  {
   "cell_type": "markdown",
   "id": "fb35858f",
   "metadata": {},
   "source": [
    "### Оценка базового прогнозирования с вариацией гиперпараметров\n",
    "Гиперпараметры улучшили некоторые метрики моделей, но Naive Bayes по-прежнему кажется наиболее приемлемым."
   ]
  },
  {
   "cell_type": "code",
   "execution_count": null,
   "id": "a4e63110",
   "metadata": {},
   "outputs": [
    {
     "data": {
      "text/html": [
       "<div>\n",
       "<style scoped>\n",
       "    .dataframe tbody tr th:only-of-type {\n",
       "        vertical-align: middle;\n",
       "    }\n",
       "\n",
       "    .dataframe tbody tr th {\n",
       "        vertical-align: top;\n",
       "    }\n",
       "\n",
       "    .dataframe thead th {\n",
       "        text-align: right;\n",
       "    }\n",
       "</style>\n",
       "<table border=\"1\" class=\"dataframe\">\n",
       "  <thead>\n",
       "    <tr style=\"text-align: right;\">\n",
       "      <th></th>\n",
       "      <th>Model</th>\n",
       "      <th>Accuracy</th>\n",
       "      <th>Precision</th>\n",
       "      <th>Recall</th>\n",
       "      <th>F1 Score</th>\n",
       "      <th>ROC AUC</th>\n",
       "      <th>MCC</th>\n",
       "      <th>TP</th>\n",
       "      <th>TN</th>\n",
       "      <th>FP</th>\n",
       "      <th>FN</th>\n",
       "    </tr>\n",
       "  </thead>\n",
       "  <tbody>\n",
       "    <tr>\n",
       "      <th>0</th>\n",
       "      <td>Logistic Regression</td>\n",
       "      <td>0.905088</td>\n",
       "      <td>0.197368</td>\n",
       "      <td>0.294118</td>\n",
       "      <td>0.236220</td>\n",
       "      <td>0.815664</td>\n",
       "      <td>0.191960</td>\n",
       "      <td>15</td>\n",
       "      <td>910</td>\n",
       "      <td>61</td>\n",
       "      <td>36</td>\n",
       "    </tr>\n",
       "    <tr>\n",
       "      <th>1</th>\n",
       "      <td>Decision Tree</td>\n",
       "      <td>0.892368</td>\n",
       "      <td>0.135802</td>\n",
       "      <td>0.215686</td>\n",
       "      <td>0.166667</td>\n",
       "      <td>0.587357</td>\n",
       "      <td>0.115744</td>\n",
       "      <td>11</td>\n",
       "      <td>901</td>\n",
       "      <td>70</td>\n",
       "      <td>40</td>\n",
       "    </tr>\n",
       "    <tr>\n",
       "      <th>2</th>\n",
       "      <td>Random Forest</td>\n",
       "      <td>0.909002</td>\n",
       "      <td>0.080000</td>\n",
       "      <td>0.078431</td>\n",
       "      <td>0.079208</td>\n",
       "      <td>0.766503</td>\n",
       "      <td>0.031350</td>\n",
       "      <td>4</td>\n",
       "      <td>925</td>\n",
       "      <td>46</td>\n",
       "      <td>47</td>\n",
       "    </tr>\n",
       "    <tr>\n",
       "      <th>3</th>\n",
       "      <td>Support Vector Machine</td>\n",
       "      <td>0.950098</td>\n",
       "      <td>0.000000</td>\n",
       "      <td>0.000000</td>\n",
       "      <td>0.000000</td>\n",
       "      <td>0.762878</td>\n",
       "      <td>0.000000</td>\n",
       "      <td>0</td>\n",
       "      <td>971</td>\n",
       "      <td>0</td>\n",
       "      <td>51</td>\n",
       "    </tr>\n",
       "    <tr>\n",
       "      <th>4</th>\n",
       "      <td>K-Nearest Neighbors</td>\n",
       "      <td>0.892368</td>\n",
       "      <td>0.135802</td>\n",
       "      <td>0.215686</td>\n",
       "      <td>0.166667</td>\n",
       "      <td>0.663193</td>\n",
       "      <td>0.115744</td>\n",
       "      <td>11</td>\n",
       "      <td>901</td>\n",
       "      <td>70</td>\n",
       "      <td>40</td>\n",
       "    </tr>\n",
       "    <tr>\n",
       "      <th>5</th>\n",
       "      <td>Naive Bayes</td>\n",
       "      <td>0.846380</td>\n",
       "      <td>0.131944</td>\n",
       "      <td>0.372549</td>\n",
       "      <td>0.194872</td>\n",
       "      <td>0.811100</td>\n",
       "      <td>0.152591</td>\n",
       "      <td>19</td>\n",
       "      <td>846</td>\n",
       "      <td>125</td>\n",
       "      <td>32</td>\n",
       "    </tr>\n",
       "    <tr>\n",
       "      <th>6</th>\n",
       "      <td>Neural Network</td>\n",
       "      <td>0.900196</td>\n",
       "      <td>0.200000</td>\n",
       "      <td>0.333333</td>\n",
       "      <td>0.250000</td>\n",
       "      <td>0.796713</td>\n",
       "      <td>0.207621</td>\n",
       "      <td>17</td>\n",
       "      <td>903</td>\n",
       "      <td>68</td>\n",
       "      <td>34</td>\n",
       "    </tr>\n",
       "    <tr>\n",
       "      <th>7</th>\n",
       "      <td>XGBoost</td>\n",
       "      <td>0.898239</td>\n",
       "      <td>0.115942</td>\n",
       "      <td>0.156863</td>\n",
       "      <td>0.133333</td>\n",
       "      <td>0.767654</td>\n",
       "      <td>0.081609</td>\n",
       "      <td>8</td>\n",
       "      <td>910</td>\n",
       "      <td>61</td>\n",
       "      <td>43</td>\n",
       "    </tr>\n",
       "  </tbody>\n",
       "</table>\n",
       "</div>"
      ],
      "text/plain": [
       "                    Model  Accuracy  Precision    Recall  F1 Score   ROC AUC  \\\n",
       "0     Logistic Regression  0.905088   0.197368  0.294118  0.236220  0.815664   \n",
       "1           Decision Tree  0.892368   0.135802  0.215686  0.166667  0.587357   \n",
       "2           Random Forest  0.909002   0.080000  0.078431  0.079208  0.766503   \n",
       "3  Support Vector Machine  0.950098   0.000000  0.000000  0.000000  0.762878   \n",
       "4     K-Nearest Neighbors  0.892368   0.135802  0.215686  0.166667  0.663193   \n",
       "5             Naive Bayes  0.846380   0.131944  0.372549  0.194872  0.811100   \n",
       "6          Neural Network  0.900196   0.200000  0.333333  0.250000  0.796713   \n",
       "7                 XGBoost  0.898239   0.115942  0.156863  0.133333  0.767654   \n",
       "\n",
       "        MCC  TP   TN   FP  FN  \n",
       "0  0.191960  15  910   61  36  \n",
       "1  0.115744  11  901   70  40  \n",
       "2  0.031350   4  925   46  47  \n",
       "3  0.000000   0  971    0  51  \n",
       "4  0.115744  11  901   70  40  \n",
       "5  0.152591  19  846  125  32  \n",
       "6  0.207621  17  903   68  34  \n",
       "7  0.081609   8  910   61  43  "
      ]
     },
     "execution_count": 345,
     "metadata": {},
     "output_type": "execute_result"
    }
   ],
   "source": [
    "results_df_smote"
   ]
  },
  {
   "cell_type": "code",
   "execution_count": 349,
   "id": "0a9a7170",
   "metadata": {},
   "outputs": [
    {
     "data": {
      "text/html": [
       "<div>\n",
       "<style scoped>\n",
       "    .dataframe tbody tr th:only-of-type {\n",
       "        vertical-align: middle;\n",
       "    }\n",
       "\n",
       "    .dataframe tbody tr th {\n",
       "        vertical-align: top;\n",
       "    }\n",
       "\n",
       "    .dataframe thead th {\n",
       "        text-align: right;\n",
       "    }\n",
       "</style>\n",
       "<table border=\"1\" class=\"dataframe\">\n",
       "  <thead>\n",
       "    <tr style=\"text-align: right;\">\n",
       "      <th></th>\n",
       "      <th>Model</th>\n",
       "      <th>Accuracy</th>\n",
       "      <th>Precision</th>\n",
       "      <th>Recall</th>\n",
       "      <th>F1 Score</th>\n",
       "      <th>ROC AUC</th>\n",
       "      <th>MCC</th>\n",
       "      <th>TP</th>\n",
       "      <th>TN</th>\n",
       "      <th>FP</th>\n",
       "      <th>FN</th>\n",
       "    </tr>\n",
       "  </thead>\n",
       "  <tbody>\n",
       "    <tr>\n",
       "      <th>0</th>\n",
       "      <td>Logistic Regression</td>\n",
       "      <td>0.905088</td>\n",
       "      <td>0.197368</td>\n",
       "      <td>0.294118</td>\n",
       "      <td>0.236220</td>\n",
       "      <td>0.815664</td>\n",
       "      <td>0.191960</td>\n",
       "      <td>15</td>\n",
       "      <td>910</td>\n",
       "      <td>61</td>\n",
       "      <td>36</td>\n",
       "    </tr>\n",
       "    <tr>\n",
       "      <th>1</th>\n",
       "      <td>Decision Tree</td>\n",
       "      <td>0.897260</td>\n",
       "      <td>0.125000</td>\n",
       "      <td>0.176471</td>\n",
       "      <td>0.146341</td>\n",
       "      <td>0.561964</td>\n",
       "      <td>0.094949</td>\n",
       "      <td>9</td>\n",
       "      <td>908</td>\n",
       "      <td>63</td>\n",
       "      <td>42</td>\n",
       "    </tr>\n",
       "    <tr>\n",
       "      <th>2</th>\n",
       "      <td>Random Forest</td>\n",
       "      <td>0.906067</td>\n",
       "      <td>0.090909</td>\n",
       "      <td>0.098039</td>\n",
       "      <td>0.094340</td>\n",
       "      <td>0.767058</td>\n",
       "      <td>0.044914</td>\n",
       "      <td>5</td>\n",
       "      <td>921</td>\n",
       "      <td>50</td>\n",
       "      <td>46</td>\n",
       "    </tr>\n",
       "    <tr>\n",
       "      <th>3</th>\n",
       "      <td>Support Vector Machine</td>\n",
       "      <td>0.909002</td>\n",
       "      <td>0.208333</td>\n",
       "      <td>0.294118</td>\n",
       "      <td>0.243902</td>\n",
       "      <td>0.723622</td>\n",
       "      <td>0.200309</td>\n",
       "      <td>15</td>\n",
       "      <td>914</td>\n",
       "      <td>57</td>\n",
       "      <td>36</td>\n",
       "    </tr>\n",
       "    <tr>\n",
       "      <th>4</th>\n",
       "      <td>K-Nearest Neighbors</td>\n",
       "      <td>0.893346</td>\n",
       "      <td>0.118421</td>\n",
       "      <td>0.176471</td>\n",
       "      <td>0.141732</td>\n",
       "      <td>0.657216</td>\n",
       "      <td>0.089192</td>\n",
       "      <td>9</td>\n",
       "      <td>904</td>\n",
       "      <td>67</td>\n",
       "      <td>42</td>\n",
       "    </tr>\n",
       "    <tr>\n",
       "      <th>5</th>\n",
       "      <td>Naive Bayes</td>\n",
       "      <td>0.846380</td>\n",
       "      <td>0.131944</td>\n",
       "      <td>0.372549</td>\n",
       "      <td>0.194872</td>\n",
       "      <td>0.811100</td>\n",
       "      <td>0.152591</td>\n",
       "      <td>19</td>\n",
       "      <td>846</td>\n",
       "      <td>125</td>\n",
       "      <td>32</td>\n",
       "    </tr>\n",
       "    <tr>\n",
       "      <th>6</th>\n",
       "      <td>Neural Network</td>\n",
       "      <td>0.892368</td>\n",
       "      <td>0.182796</td>\n",
       "      <td>0.333333</td>\n",
       "      <td>0.236111</td>\n",
       "      <td>0.800024</td>\n",
       "      <td>0.193105</td>\n",
       "      <td>17</td>\n",
       "      <td>895</td>\n",
       "      <td>76</td>\n",
       "      <td>34</td>\n",
       "    </tr>\n",
       "    <tr>\n",
       "      <th>7</th>\n",
       "      <td>XGBoost</td>\n",
       "      <td>0.897260</td>\n",
       "      <td>0.064516</td>\n",
       "      <td>0.078431</td>\n",
       "      <td>0.070796</td>\n",
       "      <td>0.728782</td>\n",
       "      <td>0.017056</td>\n",
       "      <td>4</td>\n",
       "      <td>913</td>\n",
       "      <td>58</td>\n",
       "      <td>47</td>\n",
       "    </tr>\n",
       "  </tbody>\n",
       "</table>\n",
       "</div>"
      ],
      "text/plain": [
       "                    Model  Accuracy  Precision    Recall  F1 Score   ROC AUC  \\\n",
       "0     Logistic Regression  0.905088   0.197368  0.294118  0.236220  0.815664   \n",
       "1           Decision Tree  0.897260   0.125000  0.176471  0.146341  0.561964   \n",
       "2           Random Forest  0.906067   0.090909  0.098039  0.094340  0.767058   \n",
       "3  Support Vector Machine  0.909002   0.208333  0.294118  0.243902  0.723622   \n",
       "4     K-Nearest Neighbors  0.893346   0.118421  0.176471  0.141732  0.657216   \n",
       "5             Naive Bayes  0.846380   0.131944  0.372549  0.194872  0.811100   \n",
       "6          Neural Network  0.892368   0.182796  0.333333  0.236111  0.800024   \n",
       "7                 XGBoost  0.897260   0.064516  0.078431  0.070796  0.728782   \n",
       "\n",
       "        MCC  TP   TN   FP  FN  \n",
       "0  0.191960  15  910   61  36  \n",
       "1  0.094949   9  908   63  42  \n",
       "2  0.044914   5  921   50  46  \n",
       "3  0.200309  15  914   57  36  \n",
       "4  0.089192   9  904   67  42  \n",
       "5  0.152591  19  846  125  32  \n",
       "6  0.193105  17  895   76  34  \n",
       "7  0.017056   4  913   58  47  "
      ]
     },
     "execution_count": 349,
     "metadata": {},
     "output_type": "execute_result"
    }
   ],
   "source": [
    "results_df_smote_params"
   ]
  },
  {
   "cell_type": "markdown",
   "id": "62466000",
   "metadata": {},
   "source": [
    "### Оценка прогнозирования с использованием SMOTE\n",
    "С добавлением искусственных данных можно сказать, что Naive Bayes уже не выглядит таким высокоприоритетным. Другие модели также демонстрируют относительно хорошую способность к прогнозированию. Их метрики меняются время от времени в зависимости от количества тестовых данных, поэтому нельзя с уверенностью сказать, какая модель лучше. Но определенно SMOTE помогает достичь лучших результатов.\n",
    "\n"
   ]
  },
  {
   "cell_type": "markdown",
   "id": "47602de5",
   "metadata": {},
   "source": [
    "### Заключение:\n",
    "1. В этом проекте были изучены различные атрибуты, способствующие инсульту, и интересно, что ни один из них не имеет сильной корреляции с риском развития инсульта. Основное понимание данных заключается в том, что пожилые пациенты с большей вероятностью перенесут инсульт, чем молодые. Кроме того, люди имеют одинаковую вероятность перенести инсульт, независимо от пола пациента, его места жительства или его семейного положения.\n",
    "\n",
    "2. Для моделирования наиболее эффективной в прогнозировании была Naive Bayes, но с невысокой точностью. Предоставленные данные были несбалансированными, поэтому модели показали плохую производительность. SMOTE помог превзойти базовую модель, поэтому можно упомянуть, что более равномерно распределенные данные помогут улучшить метрики моделей в дальнейшем анализе инсультов."
   ]
  }
 ],
 "metadata": {
  "kernelspec": {
   "display_name": "base",
   "language": "python",
   "name": "python3"
  },
  "language_info": {
   "codemirror_mode": {
    "name": "ipython",
    "version": 3
   },
   "file_extension": ".py",
   "mimetype": "text/x-python",
   "name": "python",
   "nbconvert_exporter": "python",
   "pygments_lexer": "ipython3",
   "version": "3.12.3"
  }
 },
 "nbformat": 4,
 "nbformat_minor": 5
}
